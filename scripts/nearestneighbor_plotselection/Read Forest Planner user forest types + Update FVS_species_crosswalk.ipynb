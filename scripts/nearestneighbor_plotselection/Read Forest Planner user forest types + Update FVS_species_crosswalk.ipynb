{
 "cells": [
  {
   "cell_type": "code",
   "execution_count": 1,
   "metadata": {
    "collapsed": false
   },
   "outputs": [],
   "source": [
    "# Load the packages\n",
    "import os\n",
    "import pandas as pd\n",
    "import numpy as np\n",
    "import json\n",
    "import ast\n",
    "import time"
   ]
  },
  {
   "cell_type": "code",
   "execution_count": 2,
   "metadata": {
    "collapsed": false
   },
   "outputs": [
    {
     "data": {
      "text/plain": [
       "'G:\\\\projects\\\\ForestPlanner_2015\\\\Data\\\\Work'"
      ]
     },
     "execution_count": 2,
     "metadata": {},
     "output_type": "execute_result"
    }
   ],
   "source": [
    "# set our working directory\n",
    "os.chdir(\"G:\\projects\\ForestPlanner_2015\\Data\\Work\")\n",
    "os.getcwd()"
   ]
  },
  {
   "cell_type": "code",
   "execution_count": 3,
   "metadata": {
    "collapsed": false
   },
   "outputs": [
    {
     "data": {
      "text/html": [
       "<div>\n",
       "<table border=\"1\" class=\"dataframe\">\n",
       "  <thead>\n",
       "    <tr style=\"text-align: right;\">\n",
       "      <th></th>\n",
       "      <th>VARIANT</th>\n",
       "      <th>COND ID</th>\n",
       "      <th>AGE</th>\n",
       "      <th>TPA</th>\n",
       "      <th>STAND DETAILS</th>\n",
       "    </tr>\n",
       "  </thead>\n",
       "  <tbody>\n",
       "    <tr>\n",
       "      <th>0</th>\n",
       "      <td>BM</td>\n",
       "      <td>5013</td>\n",
       "      <td>8</td>\n",
       "      <td>400</td>\n",
       "      <td>{\"classes\": [[\"Ponderosa pine\", 0, 2, 400]], \"...</td>\n",
       "    </tr>\n",
       "    <tr>\n",
       "      <th>1</th>\n",
       "      <td>BM</td>\n",
       "      <td>5013</td>\n",
       "      <td>8</td>\n",
       "      <td>175</td>\n",
       "      <td>{\"classes\": [[\"Ponderosa pine\", 0, 2, 75], [\"I...</td>\n",
       "    </tr>\n",
       "    <tr>\n",
       "      <th>2</th>\n",
       "      <td>BM</td>\n",
       "      <td>6565</td>\n",
       "      <td>75</td>\n",
       "      <td>375</td>\n",
       "      <td>{\"classes\": [[\"Ponderosa pine\", 12, 24, 125], ...</td>\n",
       "    </tr>\n",
       "    <tr>\n",
       "      <th>3</th>\n",
       "      <td>BM</td>\n",
       "      <td>6616</td>\n",
       "      <td>125</td>\n",
       "      <td>10</td>\n",
       "      <td>{\"classes\": [[\"Ponderosa pine\", 24, 36, 10]], ...</td>\n",
       "    </tr>\n",
       "    <tr>\n",
       "      <th>4</th>\n",
       "      <td>BM</td>\n",
       "      <td>6678</td>\n",
       "      <td>30</td>\n",
       "      <td>75</td>\n",
       "      <td>{\"property\": \"trees_forestproperty_431\", \"clas...</td>\n",
       "    </tr>\n",
       "  </tbody>\n",
       "</table>\n",
       "</div>"
      ],
      "text/plain": [
       "  VARIANT  COND ID  AGE  TPA  \\\n",
       "0      BM     5013    8  400   \n",
       "1      BM     5013    8  175   \n",
       "2      BM     6565   75  375   \n",
       "3      BM     6616  125   10   \n",
       "4      BM     6678   30   75   \n",
       "\n",
       "                                       STAND DETAILS  \n",
       "0  {\"classes\": [[\"Ponderosa pine\", 0, 2, 400]], \"...  \n",
       "1  {\"classes\": [[\"Ponderosa pine\", 0, 2, 75], [\"I...  \n",
       "2  {\"classes\": [[\"Ponderosa pine\", 12, 24, 125], ...  \n",
       "3  {\"classes\": [[\"Ponderosa pine\", 24, 36, 10]], ...  \n",
       "4  {\"property\": \"trees_forestproperty_431\", \"clas...  "
      ]
     },
     "execution_count": 3,
     "metadata": {},
     "output_type": "execute_result"
    }
   ],
   "source": [
    "FP_stands = pd.read_csv(\"FP_userstands_2015-10-09.csv\", header = 0)\n",
    "FP_stands.head()"
   ]
  },
  {
   "cell_type": "code",
   "execution_count": 4,
   "metadata": {
    "collapsed": false
   },
   "outputs": [
    {
     "data": {
      "text/html": [
       "<div>\n",
       "<table border=\"1\" class=\"dataframe\">\n",
       "  <thead>\n",
       "    <tr style=\"text-align: right;\">\n",
       "      <th></th>\n",
       "      <th>VARIANT</th>\n",
       "      <th>COND ID</th>\n",
       "      <th>AGE</th>\n",
       "      <th>TPA</th>\n",
       "      <th>STAND DETAILS</th>\n",
       "      <th>User_StandID</th>\n",
       "    </tr>\n",
       "  </thead>\n",
       "  <tbody>\n",
       "    <tr>\n",
       "      <th>0</th>\n",
       "      <td>BM</td>\n",
       "      <td>5013</td>\n",
       "      <td>8</td>\n",
       "      <td>400</td>\n",
       "      <td>{\"classes\": [[\"Ponderosa pine\", 0, 2, 400]], \"...</td>\n",
       "      <td>0</td>\n",
       "    </tr>\n",
       "    <tr>\n",
       "      <th>1</th>\n",
       "      <td>BM</td>\n",
       "      <td>5013</td>\n",
       "      <td>8</td>\n",
       "      <td>175</td>\n",
       "      <td>{\"classes\": [[\"Ponderosa pine\", 0, 2, 75], [\"I...</td>\n",
       "      <td>1</td>\n",
       "    </tr>\n",
       "    <tr>\n",
       "      <th>2</th>\n",
       "      <td>BM</td>\n",
       "      <td>6565</td>\n",
       "      <td>75</td>\n",
       "      <td>375</td>\n",
       "      <td>{\"classes\": [[\"Ponderosa pine\", 12, 24, 125], ...</td>\n",
       "      <td>2</td>\n",
       "    </tr>\n",
       "    <tr>\n",
       "      <th>3</th>\n",
       "      <td>BM</td>\n",
       "      <td>6616</td>\n",
       "      <td>125</td>\n",
       "      <td>10</td>\n",
       "      <td>{\"classes\": [[\"Ponderosa pine\", 24, 36, 10]], ...</td>\n",
       "      <td>3</td>\n",
       "    </tr>\n",
       "    <tr>\n",
       "      <th>4</th>\n",
       "      <td>BM</td>\n",
       "      <td>6678</td>\n",
       "      <td>30</td>\n",
       "      <td>75</td>\n",
       "      <td>{\"property\": \"trees_forestproperty_431\", \"clas...</td>\n",
       "      <td>4</td>\n",
       "    </tr>\n",
       "  </tbody>\n",
       "</table>\n",
       "</div>"
      ],
      "text/plain": [
       "  VARIANT  COND ID  AGE  TPA  \\\n",
       "0      BM     5013    8  400   \n",
       "1      BM     5013    8  175   \n",
       "2      BM     6565   75  375   \n",
       "3      BM     6616  125   10   \n",
       "4      BM     6678   30   75   \n",
       "\n",
       "                                       STAND DETAILS  User_StandID  \n",
       "0  {\"classes\": [[\"Ponderosa pine\", 0, 2, 400]], \"...             0  \n",
       "1  {\"classes\": [[\"Ponderosa pine\", 0, 2, 75], [\"I...             1  \n",
       "2  {\"classes\": [[\"Ponderosa pine\", 12, 24, 125], ...             2  \n",
       "3  {\"classes\": [[\"Ponderosa pine\", 24, 36, 10]], ...             3  \n",
       "4  {\"property\": \"trees_forestproperty_431\", \"clas...             4  "
      ]
     },
     "execution_count": 4,
     "metadata": {},
     "output_type": "execute_result"
    }
   ],
   "source": [
    "# Create a unique ID for each stand\n",
    "FP_stands[\"User_StandID\"] = FP_stands.index\n",
    "FP_stands.head()"
   ]
  },
  {
   "cell_type": "code",
   "execution_count": 5,
   "metadata": {
    "collapsed": false
   },
   "outputs": [
    {
     "data": {
      "text/html": [
       "<div>\n",
       "<table border=\"1\" class=\"dataframe\">\n",
       "  <thead>\n",
       "    <tr style=\"text-align: right;\">\n",
       "      <th></th>\n",
       "      <th>VARIANT</th>\n",
       "      <th>COND ID</th>\n",
       "      <th>AGE</th>\n",
       "      <th>TPA</th>\n",
       "      <th>STAND DETAILS</th>\n",
       "      <th>User_StandID</th>\n",
       "    </tr>\n",
       "  </thead>\n",
       "  <tbody>\n",
       "    <tr>\n",
       "      <th>0</th>\n",
       "      <td>BM</td>\n",
       "      <td>5013</td>\n",
       "      <td>8</td>\n",
       "      <td>400</td>\n",
       "      <td>{u'property': u'trees_forestproperty_266', u'c...</td>\n",
       "      <td>0</td>\n",
       "    </tr>\n",
       "    <tr>\n",
       "      <th>1</th>\n",
       "      <td>BM</td>\n",
       "      <td>5013</td>\n",
       "      <td>8</td>\n",
       "      <td>175</td>\n",
       "      <td>{u'property': u'trees_forestproperty_266', u'c...</td>\n",
       "      <td>1</td>\n",
       "    </tr>\n",
       "    <tr>\n",
       "      <th>2</th>\n",
       "      <td>BM</td>\n",
       "      <td>6565</td>\n",
       "      <td>75</td>\n",
       "      <td>375</td>\n",
       "      <td>{u'property': u'trees_forestproperty_337', u'c...</td>\n",
       "      <td>2</td>\n",
       "    </tr>\n",
       "    <tr>\n",
       "      <th>3</th>\n",
       "      <td>BM</td>\n",
       "      <td>6616</td>\n",
       "      <td>125</td>\n",
       "      <td>10</td>\n",
       "      <td>{u'property': u'trees_forestproperty_668', u'c...</td>\n",
       "      <td>3</td>\n",
       "    </tr>\n",
       "    <tr>\n",
       "      <th>4</th>\n",
       "      <td>BM</td>\n",
       "      <td>6678</td>\n",
       "      <td>30</td>\n",
       "      <td>75</td>\n",
       "      <td>{u'classes': [[u'Ponderosa pine', 6, 12, 30], ...</td>\n",
       "      <td>4</td>\n",
       "    </tr>\n",
       "  </tbody>\n",
       "</table>\n",
       "</div>"
      ],
      "text/plain": [
       "  VARIANT  COND ID  AGE  TPA  \\\n",
       "0      BM     5013    8  400   \n",
       "1      BM     5013    8  175   \n",
       "2      BM     6565   75  375   \n",
       "3      BM     6616  125   10   \n",
       "4      BM     6678   30   75   \n",
       "\n",
       "                                       STAND DETAILS  User_StandID  \n",
       "0  {u'property': u'trees_forestproperty_266', u'c...             0  \n",
       "1  {u'property': u'trees_forestproperty_266', u'c...             1  \n",
       "2  {u'property': u'trees_forestproperty_337', u'c...             2  \n",
       "3  {u'property': u'trees_forestproperty_668', u'c...             3  \n",
       "4  {u'classes': [[u'Ponderosa pine', 6, 12, 30], ...             4  "
      ]
     },
     "execution_count": 5,
     "metadata": {},
     "output_type": "execute_result"
    }
   ],
   "source": [
    "FP_stands[\"STAND DETAILS\"] =  FP_stands[\"STAND DETAILS\"].map(lambda d : ast.literal_eval(d))\n",
    "FP_stands.head()"
   ]
  },
  {
   "cell_type": "code",
   "execution_count": 6,
   "metadata": {
    "collapsed": false
   },
   "outputs": [
    {
     "data": {
      "text/html": [
       "<div>\n",
       "<table border=\"1\" class=\"dataframe\">\n",
       "  <thead>\n",
       "    <tr style=\"text-align: right;\">\n",
       "      <th></th>\n",
       "      <th>VARIANT</th>\n",
       "      <th>COND ID</th>\n",
       "      <th>AGE</th>\n",
       "      <th>TPA</th>\n",
       "      <th>STAND DETAILS</th>\n",
       "      <th>User_StandID</th>\n",
       "      <th>classes</th>\n",
       "      <th>property</th>\n",
       "    </tr>\n",
       "  </thead>\n",
       "  <tbody>\n",
       "    <tr>\n",
       "      <th>0</th>\n",
       "      <td>BM</td>\n",
       "      <td>5013</td>\n",
       "      <td>8</td>\n",
       "      <td>400</td>\n",
       "      <td>{u'property': u'trees_forestproperty_266', u'c...</td>\n",
       "      <td>0</td>\n",
       "      <td>[[Ponderosa pine, 0, 2, 400]]</td>\n",
       "      <td>trees_forestproperty_266</td>\n",
       "    </tr>\n",
       "    <tr>\n",
       "      <th>1</th>\n",
       "      <td>BM</td>\n",
       "      <td>5013</td>\n",
       "      <td>8</td>\n",
       "      <td>175</td>\n",
       "      <td>{u'property': u'trees_forestproperty_266', u'c...</td>\n",
       "      <td>1</td>\n",
       "      <td>[[Ponderosa pine, 0, 2, 75], [Incense cedar, 0...</td>\n",
       "      <td>trees_forestproperty_266</td>\n",
       "    </tr>\n",
       "    <tr>\n",
       "      <th>2</th>\n",
       "      <td>BM</td>\n",
       "      <td>6565</td>\n",
       "      <td>75</td>\n",
       "      <td>375</td>\n",
       "      <td>{u'property': u'trees_forestproperty_337', u'c...</td>\n",
       "      <td>2</td>\n",
       "      <td>[[Ponderosa pine, 12, 24, 125], [Grand fir, 0,...</td>\n",
       "      <td>trees_forestproperty_337</td>\n",
       "    </tr>\n",
       "    <tr>\n",
       "      <th>3</th>\n",
       "      <td>BM</td>\n",
       "      <td>6616</td>\n",
       "      <td>125</td>\n",
       "      <td>10</td>\n",
       "      <td>{u'property': u'trees_forestproperty_668', u'c...</td>\n",
       "      <td>3</td>\n",
       "      <td>[[Ponderosa pine, 24, 36, 10]]</td>\n",
       "      <td>trees_forestproperty_668</td>\n",
       "    </tr>\n",
       "    <tr>\n",
       "      <th>4</th>\n",
       "      <td>BM</td>\n",
       "      <td>6678</td>\n",
       "      <td>30</td>\n",
       "      <td>75</td>\n",
       "      <td>{u'classes': [[u'Ponderosa pine', 6, 12, 30], ...</td>\n",
       "      <td>4</td>\n",
       "      <td>[[Ponderosa pine, 6, 12, 30], [White fir, 2, 6...</td>\n",
       "      <td>trees_forestproperty_431</td>\n",
       "    </tr>\n",
       "  </tbody>\n",
       "</table>\n",
       "</div>"
      ],
      "text/plain": [
       "  VARIANT  COND ID  AGE  TPA  \\\n",
       "0      BM     5013    8  400   \n",
       "1      BM     5013    8  175   \n",
       "2      BM     6565   75  375   \n",
       "3      BM     6616  125   10   \n",
       "4      BM     6678   30   75   \n",
       "\n",
       "                                       STAND DETAILS  User_StandID  \\\n",
       "0  {u'property': u'trees_forestproperty_266', u'c...             0   \n",
       "1  {u'property': u'trees_forestproperty_266', u'c...             1   \n",
       "2  {u'property': u'trees_forestproperty_337', u'c...             2   \n",
       "3  {u'property': u'trees_forestproperty_668', u'c...             3   \n",
       "4  {u'classes': [[u'Ponderosa pine', 6, 12, 30], ...             4   \n",
       "\n",
       "                                             classes                  property  \n",
       "0                      [[Ponderosa pine, 0, 2, 400]]  trees_forestproperty_266  \n",
       "1  [[Ponderosa pine, 0, 2, 75], [Incense cedar, 0...  trees_forestproperty_266  \n",
       "2  [[Ponderosa pine, 12, 24, 125], [Grand fir, 0,...  trees_forestproperty_337  \n",
       "3                     [[Ponderosa pine, 24, 36, 10]]  trees_forestproperty_668  \n",
       "4  [[Ponderosa pine, 6, 12, 30], [White fir, 2, 6...  trees_forestproperty_431  "
      ]
     },
     "execution_count": 6,
     "metadata": {},
     "output_type": "execute_result"
    }
   ],
   "source": [
    "FP_stands_new = FP_stands.join(pd.DataFrame(FP_stands[\"STAND DETAILS\"].to_dict()).T)\n",
    "FP_stands_new.head()"
   ]
  },
  {
   "cell_type": "code",
   "execution_count": 7,
   "metadata": {
    "collapsed": false
   },
   "outputs": [
    {
     "data": {
      "text/html": [
       "<div>\n",
       "<table border=\"1\" class=\"dataframe\">\n",
       "  <thead>\n",
       "    <tr style=\"text-align: right;\">\n",
       "      <th></th>\n",
       "      <th>Variant</th>\n",
       "      <th>CondID</th>\n",
       "      <th>Age</th>\n",
       "      <th>TPA</th>\n",
       "      <th>PropertyID</th>\n",
       "      <th>ForestTypeRow</th>\n",
       "    </tr>\n",
       "    <tr>\n",
       "      <th>User_StandID</th>\n",
       "      <th></th>\n",
       "      <th></th>\n",
       "      <th></th>\n",
       "      <th></th>\n",
       "      <th></th>\n",
       "      <th></th>\n",
       "    </tr>\n",
       "  </thead>\n",
       "  <tbody>\n",
       "    <tr>\n",
       "      <th>0</th>\n",
       "      <td>BM</td>\n",
       "      <td>5013</td>\n",
       "      <td>8</td>\n",
       "      <td>400</td>\n",
       "      <td>trees_forestproperty_266</td>\n",
       "      <td>[Ponderosa pine, 0, 2, 400]</td>\n",
       "    </tr>\n",
       "    <tr>\n",
       "      <th>1</th>\n",
       "      <td>BM</td>\n",
       "      <td>5013</td>\n",
       "      <td>8</td>\n",
       "      <td>175</td>\n",
       "      <td>trees_forestproperty_266</td>\n",
       "      <td>[Ponderosa pine, 0, 2, 75]</td>\n",
       "    </tr>\n",
       "    <tr>\n",
       "      <th>1</th>\n",
       "      <td>BM</td>\n",
       "      <td>5013</td>\n",
       "      <td>8</td>\n",
       "      <td>175</td>\n",
       "      <td>trees_forestproperty_266</td>\n",
       "      <td>[Incense cedar, 0, 2, 50]</td>\n",
       "    </tr>\n",
       "    <tr>\n",
       "      <th>1</th>\n",
       "      <td>BM</td>\n",
       "      <td>5013</td>\n",
       "      <td>8</td>\n",
       "      <td>175</td>\n",
       "      <td>trees_forestproperty_266</td>\n",
       "      <td>[Grand fir, 0, 2, 50]</td>\n",
       "    </tr>\n",
       "    <tr>\n",
       "      <th>2</th>\n",
       "      <td>BM</td>\n",
       "      <td>6565</td>\n",
       "      <td>75</td>\n",
       "      <td>375</td>\n",
       "      <td>trees_forestproperty_337</td>\n",
       "      <td>[Ponderosa pine, 12, 24, 125]</td>\n",
       "    </tr>\n",
       "  </tbody>\n",
       "</table>\n",
       "</div>"
      ],
      "text/plain": [
       "             Variant  CondID  Age  TPA                PropertyID  \\\n",
       "User_StandID                                                       \n",
       "0                 BM    5013    8  400  trees_forestproperty_266   \n",
       "1                 BM    5013    8  175  trees_forestproperty_266   \n",
       "1                 BM    5013    8  175  trees_forestproperty_266   \n",
       "1                 BM    5013    8  175  trees_forestproperty_266   \n",
       "2                 BM    6565   75  375  trees_forestproperty_337   \n",
       "\n",
       "                              ForestTypeRow  \n",
       "User_StandID                                 \n",
       "0               [Ponderosa pine, 0, 2, 400]  \n",
       "1                [Ponderosa pine, 0, 2, 75]  \n",
       "1                 [Incense cedar, 0, 2, 50]  \n",
       "1                     [Grand fir, 0, 2, 50]  \n",
       "2             [Ponderosa pine, 12, 24, 125]  "
      ]
     },
     "execution_count": 7,
     "metadata": {},
     "output_type": "execute_result"
    }
   ],
   "source": [
    "# split rows of species-diameter-density dictionary onto their own rows\n",
    "rows = []\n",
    "_ = FP_stands_new.apply(lambda row: [rows.append([row['User_StandID'], row['VARIANT'], row['COND ID'], row['AGE'], row['TPA'], row['property'], foresttype]) \n",
    "                         for foresttype in row.classes], axis=1)\n",
    "FP_stands = pd.DataFrame(rows, columns = [\"User_StandID\", \"Variant\", \"CondID\", \"Age\", \"TPA\", \"PropertyID\", \"ForestTypeRow\"]).set_index(['User_StandID'])\n",
    "FP_stands.head()"
   ]
  },
  {
   "cell_type": "code",
   "execution_count": 8,
   "metadata": {
    "collapsed": false
   },
   "outputs": [
    {
     "data": {
      "text/html": [
       "<div>\n",
       "<table border=\"1\" class=\"dataframe\">\n",
       "  <thead>\n",
       "    <tr style=\"text-align: right;\">\n",
       "      <th></th>\n",
       "      <th>Variant</th>\n",
       "      <th>CondID</th>\n",
       "      <th>Age</th>\n",
       "      <th>TPA</th>\n",
       "      <th>PropertyID</th>\n",
       "      <th>ForestTypeRow</th>\n",
       "      <th>Species</th>\n",
       "      <th>minDBH</th>\n",
       "      <th>maxDBH</th>\n",
       "      <th>FT_TPA</th>\n",
       "    </tr>\n",
       "    <tr>\n",
       "      <th>User_StandID</th>\n",
       "      <th></th>\n",
       "      <th></th>\n",
       "      <th></th>\n",
       "      <th></th>\n",
       "      <th></th>\n",
       "      <th></th>\n",
       "      <th></th>\n",
       "      <th></th>\n",
       "      <th></th>\n",
       "      <th></th>\n",
       "    </tr>\n",
       "  </thead>\n",
       "  <tbody>\n",
       "    <tr>\n",
       "      <th>0</th>\n",
       "      <td>BM</td>\n",
       "      <td>5013</td>\n",
       "      <td>8</td>\n",
       "      <td>400</td>\n",
       "      <td>trees_forestproperty_266</td>\n",
       "      <td>[Ponderosa pine, 0, 2, 400]</td>\n",
       "      <td>Ponderosa pine</td>\n",
       "      <td>0</td>\n",
       "      <td>2</td>\n",
       "      <td>400</td>\n",
       "    </tr>\n",
       "    <tr>\n",
       "      <th>1</th>\n",
       "      <td>BM</td>\n",
       "      <td>5013</td>\n",
       "      <td>8</td>\n",
       "      <td>175</td>\n",
       "      <td>trees_forestproperty_266</td>\n",
       "      <td>[Ponderosa pine, 0, 2, 75]</td>\n",
       "      <td>Ponderosa pine</td>\n",
       "      <td>0</td>\n",
       "      <td>2</td>\n",
       "      <td>75</td>\n",
       "    </tr>\n",
       "    <tr>\n",
       "      <th>1</th>\n",
       "      <td>BM</td>\n",
       "      <td>5013</td>\n",
       "      <td>8</td>\n",
       "      <td>175</td>\n",
       "      <td>trees_forestproperty_266</td>\n",
       "      <td>[Incense cedar, 0, 2, 50]</td>\n",
       "      <td>Incense cedar</td>\n",
       "      <td>0</td>\n",
       "      <td>2</td>\n",
       "      <td>50</td>\n",
       "    </tr>\n",
       "    <tr>\n",
       "      <th>1</th>\n",
       "      <td>BM</td>\n",
       "      <td>5013</td>\n",
       "      <td>8</td>\n",
       "      <td>175</td>\n",
       "      <td>trees_forestproperty_266</td>\n",
       "      <td>[Grand fir, 0, 2, 50]</td>\n",
       "      <td>Grand fir</td>\n",
       "      <td>0</td>\n",
       "      <td>2</td>\n",
       "      <td>50</td>\n",
       "    </tr>\n",
       "    <tr>\n",
       "      <th>2</th>\n",
       "      <td>BM</td>\n",
       "      <td>6565</td>\n",
       "      <td>75</td>\n",
       "      <td>375</td>\n",
       "      <td>trees_forestproperty_337</td>\n",
       "      <td>[Ponderosa pine, 12, 24, 125]</td>\n",
       "      <td>Ponderosa pine</td>\n",
       "      <td>12</td>\n",
       "      <td>24</td>\n",
       "      <td>125</td>\n",
       "    </tr>\n",
       "  </tbody>\n",
       "</table>\n",
       "</div>"
      ],
      "text/plain": [
       "             Variant  CondID  Age  TPA                PropertyID  \\\n",
       "User_StandID                                                       \n",
       "0                 BM    5013    8  400  trees_forestproperty_266   \n",
       "1                 BM    5013    8  175  trees_forestproperty_266   \n",
       "1                 BM    5013    8  175  trees_forestproperty_266   \n",
       "1                 BM    5013    8  175  trees_forestproperty_266   \n",
       "2                 BM    6565   75  375  trees_forestproperty_337   \n",
       "\n",
       "                              ForestTypeRow         Species  minDBH  maxDBH  \\\n",
       "User_StandID                                                                  \n",
       "0               [Ponderosa pine, 0, 2, 400]  Ponderosa pine       0       2   \n",
       "1                [Ponderosa pine, 0, 2, 75]  Ponderosa pine       0       2   \n",
       "1                 [Incense cedar, 0, 2, 50]   Incense cedar       0       2   \n",
       "1                     [Grand fir, 0, 2, 50]       Grand fir       0       2   \n",
       "2             [Ponderosa pine, 12, 24, 125]  Ponderosa pine      12      24   \n",
       "\n",
       "              FT_TPA  \n",
       "User_StandID          \n",
       "0                400  \n",
       "1                 75  \n",
       "1                 50  \n",
       "1                 50  \n",
       "2                125  "
      ]
     },
     "execution_count": 8,
     "metadata": {},
     "output_type": "execute_result"
    }
   ],
   "source": [
    "# Explode each species-diameter-density list to its own set of columns\n",
    "FP_stands.reset_index(inplace = True)\n",
    "FP_stands[['Species', 'minDBH', 'maxDBH', 'FT_TPA']] = FP_stands['ForestTypeRow'].apply(pd.Series)\n",
    "FP_stands.set_index(\"User_StandID\", inplace = True)\n",
    "FP_stands.head()"
   ]
  },
  {
   "cell_type": "code",
   "execution_count": 9,
   "metadata": {
    "collapsed": false
   },
   "outputs": [
    {
     "name": "stdout",
     "output_type": "stream",
     "text": [
      "['Ponderosa pine', 'Incense cedar', 'Grand fir', 'White fir', 'Western larch', 'Lodgepole pine', 'Douglas-fir', 'Pacific madrone', 'California black oak', 'Sugar pine', 'Oregon white oak', 'Bigleaf maple', 'Canyon live oak', 'Noble fir', 'California-laurel', 'Western white pine', 'Red alder', 'Cherry', 'Willow', 'Western hemlock', 'Western redcedar', 'Black cottonwood', 'Mountain hemlock', 'Sitka spruce', 'Pacific yew', 'Pacific silver fir', 'Alaska cedar', 'Pacific dogwood', 'Oregon ash', 'Subalpine fir', 'Engelmann spruce']\n"
     ]
    }
   ],
   "source": [
    "# Unique common names in Forest Planner User data\n",
    "FP_species = pd.unique(FP_stands.Species).tolist()\n",
    "print(FP_species)"
   ]
  },
  {
   "cell_type": "code",
   "execution_count": 12,
   "metadata": {
    "collapsed": false
   },
   "outputs": [],
   "source": [
    "# Load in the FVS species crosswalk\n",
    "with open('G:\\projects\\ForestPlanner_2015\\Data\\Processed\\FVS_species_crosswalk_2015-11-13.json') as data_file:    \n",
    "    FVS_spp_crosswalk = json.load(data_file)"
   ]
  },
  {
   "cell_type": "code",
   "execution_count": 13,
   "metadata": {
    "collapsed": false
   },
   "outputs": [],
   "source": [
    "variants = pd.unique(FP_stands.Variant).tolist()\n",
    "\n",
    "# check to make sure all common names in the Forest Planner User data have values in the FVS crosswalk dictionary\n",
    "for species in FP_species:\n",
    "    for variant in variants:\n",
    "        # see if that species has an entry in the species crosswalk dictionary\n",
    "        try:\n",
    "            FVS_spp_crosswalk[species][variant]\n",
    "        # if it's not in the FVS_spp_crosswalk dictionary, tell me\n",
    "        except KeyError:\n",
    "            print species\n",
    "            pass"
   ]
  },
  {
   "cell_type": "code",
   "execution_count": null,
   "metadata": {
    "collapsed": false
   },
   "outputs": [],
   "source": [
    "# What the entries for the correct version of these common names are in FVS_spp_crosswalk\n",
    "bad2good_commonnames = {'Incense cedar': 'Incense-cedar', 'California-laurel': 'California laurel', 'Cherry': 'Plum/cherry spp.', 'Willow': 'Willow spp.'}\n",
    "\n",
    "newdict = {}\n",
    "for badcommon in bad2good_commonnames.keys():\n",
    "    newdict[badcommon] = {variant:'' for variant in variants}\n",
    "    for variant in variants:\n",
    "        print(badcommon + \" ->\"),\n",
    "        print(variant + \" ->\"),\n",
    "        print(FVS_spp_crosswalk[bad2good_commonnames[badcommon]][variant]),\n",
    "        print\n",
    "        newdict[badcommon][variant] = FVS_spp_crosswalk[bad2good_commonnames[badcommon]][variant]\n",
    "\n",
    "print(newdict)\n"
   ]
  },
  {
   "cell_type": "code",
   "execution_count": null,
   "metadata": {
    "collapsed": false
   },
   "outputs": [],
   "source": [
    "# add the new listings to the FVS_spp_crosswalk\n",
    "FVS_spp_crosswalk.update(newdict)"
   ]
  },
  {
   "cell_type": "code",
   "execution_count": null,
   "metadata": {
    "collapsed": true
   },
   "outputs": [],
   "source": [
    "# dump the updated FVS_spp_crosswalk dictionary back to json\n",
    "# dump the species_crosswalk to a json file\n",
    "with open('G:\\projects\\ForestPlanner_2015\\Data\\Processed\\FVS_species_crosswalk_' + time.strftime(\"%Y-%m-%d\") + '.json', 'w') as dumpsite:\n",
    "    json.dump(FVS_spp_crosswalk, dumpsite)"
   ]
  }
 ],
 "metadata": {
  "kernelspec": {
   "display_name": "Python 2",
   "language": "python",
   "name": "python2"
  },
  "language_info": {
   "codemirror_mode": {
    "name": "ipython",
    "version": 2
   },
   "file_extension": ".py",
   "mimetype": "text/x-python",
   "name": "python",
   "nbconvert_exporter": "python",
   "pygments_lexer": "ipython2",
   "version": "2.7.10"
  }
 },
 "nbformat": 4,
 "nbformat_minor": 0
}
