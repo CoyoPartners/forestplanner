{
 "cells": [
  {
   "cell_type": "code",
   "execution_count": 1,
   "metadata": {
    "collapsed": true
   },
   "outputs": [],
   "source": [
    "# Import tree-level data from PNW_FIADB2011 forest inventory plots\n",
    "# Summarize the data into 2\" diameter classes\n",
    "# Export a csv that has the total trees per acre by each species and 2\" diameter class\n",
    "# for each \"condition\" (~inventory plot)"
   ]
  },
  {
   "cell_type": "code",
   "execution_count": 2,
   "metadata": {
    "collapsed": true
   },
   "outputs": [],
   "source": [
    "# import the packages\n",
    "import pandas as pd\n",
    "import numpy as np\n",
    "import csv\n",
    "import time\n",
    "import json"
   ]
  },
  {
   "cell_type": "code",
   "execution_count": 3,
   "metadata": {
    "collapsed": false
   },
   "outputs": [],
   "source": [
    "# read in the treelists for the PNW_FIADB2011 dataset and IDBv2.0 dataset\n",
    "PNWFIADB2011 = pd.read_csv(\"G:\\projects\\ForestPlanner_2015\\Data\\Processed\\PNW_FIADB2011_TREELIST_2015-11-06.csv\")\n",
    "IDB2pt0 = pd.read_csv(\"G:\\projects\\ForestPlanner_2015\\Data\\Processed\\IDB2pt0_TREELIST_2015-11-04.csv\")"
   ]
  },
  {
   "cell_type": "code",
   "execution_count": 5,
   "metadata": {
    "collapsed": false
   },
   "outputs": [
    {
     "name": "stdout",
     "output_type": "stream",
     "text": [
      "18845 unique PNWFIADB 2011 conditions\n",
      "24347 unique IDB 2.0 conditions\n"
     ]
    }
   ],
   "source": [
    "print str(PNWFIADB2011.COND_ID.nunique()) + \" unique PNWFIADB 2011 conditions\"\n",
    "print str(IDB2pt0.COND_ID.nunique()) + \" unique IDB 2.0 conditions\""
   ]
  },
  {
   "cell_type": "code",
   "execution_count": 6,
   "metadata": {
    "collapsed": true
   },
   "outputs": [],
   "source": [
    "# combine these datasets into one master treelist\n",
    "treelist = PNWFIADB2011.append(IDB2pt0)"
   ]
  },
  {
   "cell_type": "code",
   "execution_count": 7,
   "metadata": {
    "collapsed": false
   },
   "outputs": [
    {
     "data": {
      "text/html": [
       "<div>\n",
       "<table border=\"1\" class=\"dataframe\">\n",
       "  <thead>\n",
       "    <tr style=\"text-align: right;\">\n",
       "      <th></th>\n",
       "      <th>ACTUALHT</th>\n",
       "      <th>BHAGE</th>\n",
       "      <th>COMMON_NAME</th>\n",
       "      <th>COND_ID</th>\n",
       "      <th>CR</th>\n",
       "      <th>DIA</th>\n",
       "      <th>GENUS</th>\n",
       "      <th>HT</th>\n",
       "      <th>PLOT</th>\n",
       "      <th>SPCD</th>\n",
       "      <th>SPECIES_SYMBOL</th>\n",
       "      <th>SPGRPCD</th>\n",
       "      <th>SPP_GRP</th>\n",
       "      <th>STATUSCD</th>\n",
       "      <th>SUBP</th>\n",
       "      <th>TOTAGE</th>\n",
       "      <th>TPA_UNADJ</th>\n",
       "      <th>TREE_ID</th>\n",
       "    </tr>\n",
       "  </thead>\n",
       "  <tbody>\n",
       "    <tr>\n",
       "      <th>0</th>\n",
       "      <td>44</td>\n",
       "      <td>NaN</td>\n",
       "      <td>western redcedar</td>\n",
       "      <td>1150352010901</td>\n",
       "      <td>15</td>\n",
       "      <td>9.5</td>\n",
       "      <td>Thuja</td>\n",
       "      <td>44</td>\n",
       "      <td>71915</td>\n",
       "      <td>242</td>\n",
       "      <td>THPL</td>\n",
       "      <td>22</td>\n",
       "      <td>Western redcedar</td>\n",
       "      <td>1</td>\n",
       "      <td>2</td>\n",
       "      <td>NaN</td>\n",
       "      <td>6.01</td>\n",
       "      <td>111</td>\n",
       "    </tr>\n",
       "    <tr>\n",
       "      <th>1</th>\n",
       "      <td>73</td>\n",
       "      <td>318</td>\n",
       "      <td>western hemlock</td>\n",
       "      <td>1150352010901</td>\n",
       "      <td>40</td>\n",
       "      <td>32.8</td>\n",
       "      <td>Tsuga</td>\n",
       "      <td>73</td>\n",
       "      <td>71915</td>\n",
       "      <td>263</td>\n",
       "      <td>TSHE</td>\n",
       "      <td>13</td>\n",
       "      <td>Western hemlock</td>\n",
       "      <td>1</td>\n",
       "      <td>2</td>\n",
       "      <td>NaN</td>\n",
       "      <td>0.99</td>\n",
       "      <td>112</td>\n",
       "    </tr>\n",
       "    <tr>\n",
       "      <th>2</th>\n",
       "      <td>66</td>\n",
       "      <td>95</td>\n",
       "      <td>western hemlock</td>\n",
       "      <td>1150352010901</td>\n",
       "      <td>10</td>\n",
       "      <td>10.5</td>\n",
       "      <td>Tsuga</td>\n",
       "      <td>66</td>\n",
       "      <td>71915</td>\n",
       "      <td>263</td>\n",
       "      <td>TSHE</td>\n",
       "      <td>13</td>\n",
       "      <td>Western hemlock</td>\n",
       "      <td>1</td>\n",
       "      <td>2</td>\n",
       "      <td>NaN</td>\n",
       "      <td>6.01</td>\n",
       "      <td>113</td>\n",
       "    </tr>\n",
       "    <tr>\n",
       "      <th>3</th>\n",
       "      <td>45</td>\n",
       "      <td>NaN</td>\n",
       "      <td>western redcedar</td>\n",
       "      <td>1150352010901</td>\n",
       "      <td>20</td>\n",
       "      <td>10.2</td>\n",
       "      <td>Thuja</td>\n",
       "      <td>45</td>\n",
       "      <td>71915</td>\n",
       "      <td>242</td>\n",
       "      <td>THPL</td>\n",
       "      <td>22</td>\n",
       "      <td>Western redcedar</td>\n",
       "      <td>1</td>\n",
       "      <td>2</td>\n",
       "      <td>NaN</td>\n",
       "      <td>6.01</td>\n",
       "      <td>114</td>\n",
       "    </tr>\n",
       "    <tr>\n",
       "      <th>4</th>\n",
       "      <td>47</td>\n",
       "      <td>NaN</td>\n",
       "      <td>western hemlock</td>\n",
       "      <td>1150352010901</td>\n",
       "      <td>20</td>\n",
       "      <td>9.2</td>\n",
       "      <td>Tsuga</td>\n",
       "      <td>47</td>\n",
       "      <td>71915</td>\n",
       "      <td>263</td>\n",
       "      <td>TSHE</td>\n",
       "      <td>13</td>\n",
       "      <td>Western hemlock</td>\n",
       "      <td>1</td>\n",
       "      <td>2</td>\n",
       "      <td>NaN</td>\n",
       "      <td>6.01</td>\n",
       "      <td>115</td>\n",
       "    </tr>\n",
       "  </tbody>\n",
       "</table>\n",
       "</div>"
      ],
      "text/plain": [
       "   ACTUALHT  BHAGE       COMMON_NAME        COND_ID  CR   DIA  GENUS  HT  \\\n",
       "0        44    NaN  western redcedar  1150352010901  15   9.5  Thuja  44   \n",
       "1        73    318   western hemlock  1150352010901  40  32.8  Tsuga  73   \n",
       "2        66     95   western hemlock  1150352010901  10  10.5  Tsuga  66   \n",
       "3        45    NaN  western redcedar  1150352010901  20  10.2  Thuja  45   \n",
       "4        47    NaN   western hemlock  1150352010901  20   9.2  Tsuga  47   \n",
       "\n",
       "    PLOT  SPCD SPECIES_SYMBOL  SPGRPCD           SPP_GRP  STATUSCD  SUBP  \\\n",
       "0  71915   242           THPL       22  Western redcedar         1     2   \n",
       "1  71915   263           TSHE       13   Western hemlock         1     2   \n",
       "2  71915   263           TSHE       13   Western hemlock         1     2   \n",
       "3  71915   242           THPL       22  Western redcedar         1     2   \n",
       "4  71915   263           TSHE       13   Western hemlock         1     2   \n",
       "\n",
       "   TOTAGE  TPA_UNADJ  TREE_ID  \n",
       "0     NaN       6.01      111  \n",
       "1     NaN       0.99      112  \n",
       "2     NaN       6.01      113  \n",
       "3     NaN       6.01      114  \n",
       "4     NaN       6.01      115  "
      ]
     },
     "execution_count": 7,
     "metadata": {},
     "output_type": "execute_result"
    }
   ],
   "source": [
    "treelist.head()"
   ]
  },
  {
   "cell_type": "code",
   "execution_count": 8,
   "metadata": {
    "collapsed": true
   },
   "outputs": [],
   "source": [
    "# read in the FVS species name crosswalk table\n",
    "FVS_crosswalk = pd.read_csv(\"G:\\projects\\ForestPlanner_2015\\Data\\work\\FVS_SpeciesCrosswalk_2015-11-06.csv\")"
   ]
  },
  {
   "cell_type": "code",
   "execution_count": 9,
   "metadata": {
    "collapsed": false
   },
   "outputs": [],
   "source": [
    "# drop entries in the crosswalk without species_symbols\n",
    "FVS_crosswalk.dropna(subset=[\"SPECIES_SYMBOL\"], inplace = True)\n",
    "\n",
    "# set species_symbol as index for FVS_crosswalk\n",
    "FVS_crosswalk.set_index(\"SPECIES_SYMBOL\", inplace = True)"
   ]
  },
  {
   "cell_type": "code",
   "execution_count": 10,
   "metadata": {
    "collapsed": false
   },
   "outputs": [
    {
     "data": {
      "text/plain": [
       "array(['FIA_SPCD', 'FVS_ALPHA_CODE', 'COMMON_NAME',\n",
       "       'SCIENTIFIC NAME_FSVeg', 'AK', 'BM', 'CA', 'CI', 'CR', 'EC', 'EM',\n",
       "       'IE', 'KT', 'NC', 'NI', 'PN', 'SO', 'TT', 'UT', 'WC', 'WS'], dtype=object)"
      ]
     },
     "execution_count": 10,
     "metadata": {},
     "output_type": "execute_result"
    }
   ],
   "source": [
    "FVS_crosswalk.columns.values"
   ]
  },
  {
   "cell_type": "code",
   "execution_count": 11,
   "metadata": {
    "collapsed": false
   },
   "outputs": [
    {
     "data": {
      "text/html": [
       "<div>\n",
       "<table border=\"1\" class=\"dataframe\">\n",
       "  <thead>\n",
       "    <tr style=\"text-align: right;\">\n",
       "      <th></th>\n",
       "      <th>COMMON_NAME</th>\n",
       "      <th>BM</th>\n",
       "      <th>CA</th>\n",
       "      <th>EC</th>\n",
       "      <th>PN</th>\n",
       "      <th>SO</th>\n",
       "      <th>WC</th>\n",
       "    </tr>\n",
       "    <tr>\n",
       "      <th>SPECIES_SYMBOL</th>\n",
       "      <th></th>\n",
       "      <th></th>\n",
       "      <th></th>\n",
       "      <th></th>\n",
       "      <th></th>\n",
       "      <th></th>\n",
       "      <th></th>\n",
       "    </tr>\n",
       "  </thead>\n",
       "  <tbody>\n",
       "    <tr>\n",
       "      <th>ABIES</th>\n",
       "      <td>Fir spp.</td>\n",
       "      <td>GF</td>\n",
       "      <td>WF</td>\n",
       "      <td>GF</td>\n",
       "      <td>SF</td>\n",
       "      <td>WF</td>\n",
       "      <td>SF</td>\n",
       "    </tr>\n",
       "    <tr>\n",
       "      <th>ABSH</th>\n",
       "      <td>Shasta red fir</td>\n",
       "      <td>OS</td>\n",
       "      <td>SH</td>\n",
       "      <td>NF</td>\n",
       "      <td>RF</td>\n",
       "      <td>SH</td>\n",
       "      <td>RF</td>\n",
       "    </tr>\n",
       "    <tr>\n",
       "      <th>ABAM</th>\n",
       "      <td>Pacific silver fir</td>\n",
       "      <td>OS</td>\n",
       "      <td>SH</td>\n",
       "      <td>SF</td>\n",
       "      <td>SF</td>\n",
       "      <td>SF</td>\n",
       "      <td>SF</td>\n",
       "    </tr>\n",
       "    <tr>\n",
       "      <th>ABBR</th>\n",
       "      <td>Bristlecone fir</td>\n",
       "      <td>OS</td>\n",
       "      <td>OS</td>\n",
       "      <td>WB</td>\n",
       "      <td>OT</td>\n",
       "      <td>OS</td>\n",
       "      <td>OT</td>\n",
       "    </tr>\n",
       "    <tr>\n",
       "      <th>ABCO</th>\n",
       "      <td>White fir</td>\n",
       "      <td>GF</td>\n",
       "      <td>WF</td>\n",
       "      <td>WF</td>\n",
       "      <td>WF</td>\n",
       "      <td>WF</td>\n",
       "      <td>WF</td>\n",
       "    </tr>\n",
       "  </tbody>\n",
       "</table>\n",
       "</div>"
      ],
      "text/plain": [
       "                       COMMON_NAME  BM  CA  EC  PN  SO  WC\n",
       "SPECIES_SYMBOL                                            \n",
       "ABIES                     Fir spp.  GF  WF  GF  SF  WF  SF\n",
       "ABSH                Shasta red fir  OS  SH  NF  RF  SH  RF\n",
       "ABAM            Pacific silver fir  OS  SH  SF  SF  SF  SF\n",
       "ABBR               Bristlecone fir  OS  OS  WB  OT  OS  OT\n",
       "ABCO                     White fir  GF  WF  WF  WF  WF  WF"
      ]
     },
     "execution_count": 11,
     "metadata": {},
     "output_type": "execute_result"
    }
   ],
   "source": [
    "# Drop columns from FVS_crosswalk we don't want or need\n",
    "dropcols = ['FIA_SPCD', 'FVS_ALPHA_CODE', 'SCIENTIFIC NAME_FSVeg', 'AK', 'CI', 'CR', 'EM', 'IE', 'KT', 'NI', 'NC', 'TT', 'UT', 'WS']\n",
    "FVS_crosswalk.drop(labels = dropcols, axis = 1, inplace = True)\n",
    "FVS_crosswalk.head()"
   ]
  },
  {
   "cell_type": "code",
   "execution_count": 12,
   "metadata": {
    "collapsed": false
   },
   "outputs": [
    {
     "name": "stdout",
     "output_type": "stream",
     "text": [
      "All species symbols from treelist found in FVS_crosswalk\n"
     ]
    }
   ],
   "source": [
    "fvs_symbols_missing = 0\n",
    "for symbol in pd.unique(treelist.SPECIES_SYMBOL):\n",
    "    if symbol in FVS_crosswalk.index.tolist():\n",
    "        pass\n",
    "    else: \n",
    "        fvs_symbols_missing += 1\n",
    "        print(symbol + \"not in FVS_crosswalk\")\n",
    "if fvs_symbols_missing == 0:\n",
    "    print(\"All species symbols from treelist found in FVS_crosswalk\")\n",
    "else:\n",
    "    print('\\n' \"Symbols missing from FVS_crosswalk: \" + str(fvs_symbols_missing))"
   ]
  },
  {
   "cell_type": "code",
   "execution_count": 13,
   "metadata": {
    "collapsed": false
   },
   "outputs": [
    {
     "name": "stdout",
     "output_type": "stream",
     "text": [
      "Species symbols: 118\n",
      "COMMON_NAME: 117\n",
      "BM: 18\n",
      "CA: 49\n",
      "EC: 32\n",
      "PN: 38\n",
      "SO: 32\n",
      "WC: 37\n"
     ]
    }
   ],
   "source": [
    "# Count number of unique values of columns in FVS_crosswalk for all species symbols found in treelist\n",
    "# this shows how much mapping species_symbol to any of these columns will consolidate the number of options\n",
    "\n",
    "# first do it on the index of fvs_crosswalk (species symbols)\n",
    "print(\"Species symbols\" + \": \" + str(len(pd.unique(FVS_crosswalk.loc[FVS_crosswalk.index.isin(pd.unique(treelist.SPECIES_SYMBOL))].index))))\n",
    "\n",
    "# then on all the other columns\n",
    "for col in FVS_crosswalk.columns.values:\n",
    "    print(col + \": \" + str(len(pd.unique(FVS_crosswalk[col].loc[FVS_crosswalk.index.isin(pd.unique(treelist.SPECIES_SYMBOL))]))))"
   ]
  },
  {
   "cell_type": "code",
   "execution_count": 14,
   "metadata": {
    "collapsed": false
   },
   "outputs": [
    {
     "name": "stdout",
     "output_type": "stream",
     "text": [
      "170 common_names before\n",
      "117 common_names after\n"
     ]
    },
    {
     "name": "stderr",
     "output_type": "stream",
     "text": [
      "C:\\Users\\ddiaz\\AppData\\Local\\Continuum\\Anaconda\\lib\\site-packages\\pandas\\core\\indexing.py:115: SettingWithCopyWarning: \n",
      "A value is trying to be set on a copy of a slice from a DataFrame\n",
      "\n",
      "See the caveats in the documentation: http://pandas.pydata.org/pandas-docs/stable/indexing.html#indexing-view-versus-copy\n",
      "  self._setitem_with_indexer(indexer, value)\n"
     ]
    }
   ],
   "source": [
    "# Over-write the common names in the treelist using the values from FVS_crosswalk\n",
    "print(str(len(pd.unique(treelist.COMMON_NAME))) + \" common_names before\")\n",
    "for symbol in pd.unique(treelist.SPECIES_SYMBOL):\n",
    "    treelist.COMMON_NAME.loc[treelist.SPECIES_SYMBOL == symbol] = FVS_crosswalk.COMMON_NAME.loc[symbol]\n",
    "print(str(len(pd.unique(treelist.COMMON_NAME))) + \" common_names after\")"
   ]
  },
  {
   "cell_type": "code",
   "execution_count": 15,
   "metadata": {
    "collapsed": false
   },
   "outputs": [],
   "source": [
    "# create nested dictionary for all entries, top-level key is common_name\n",
    "species_crosswalk = {}\n",
    "\n",
    "# all common names set up as keys with empty nested dictionary for value\n",
    "species_crosswalk = {common_name:{} for common_name in pd.unique(FVS_crosswalk['COMMON_NAME'])}\n",
    "\n",
    "# for each common name (key) in the dictionary, fill in the values...\n",
    "for key in species_crosswalk:\n",
    "    # create a nested dictionary where the name is the FVS_crosswalk column name, and the value is empty\n",
    "    species_crosswalk[key] = {column:'' for column in FVS_crosswalk.columns.values}\n",
    "\n",
    "# for each common name (key) in the species_crosswalk dictionary, fill in the values...\n",
    "for key in species_crosswalk:\n",
    "    # for each nested dictionary (which have FVS_crosswalk column names as subkeys)...\n",
    "    for subkey in species_crosswalk[key]:\n",
    "        # set the value for each nested dictionary based on the FVS_crosswalk table\n",
    "        species_crosswalk[key][subkey] = FVS_crosswalk[subkey].loc[FVS_crosswalk.COMMON_NAME == key].values[0]"
   ]
  },
  {
   "cell_type": "code",
   "execution_count": 16,
   "metadata": {
    "collapsed": true
   },
   "outputs": [],
   "source": [
    "# dump the species_crosswalk to a json file\n",
    "with open('G:\\projects\\ForestPlanner_2015\\Data\\Processed\\FVS_species_crosswalk_' + time.strftime(\"%Y-%m-%d\") + '.json', 'w') as dumpsite:\n",
    "    json.dump(species_crosswalk, dumpsite)"
   ]
  },
  {
   "cell_type": "code",
   "execution_count": 17,
   "metadata": {
    "collapsed": false
   },
   "outputs": [
    {
     "name": "stdout",
     "output_type": "stream",
     "text": [
      "43192 unique conditions (~inventory plots)\n",
      "2002912 trees\n"
     ]
    }
   ],
   "source": [
    "print str(treelist.COND_ID.nunique()) + \" unique conditions (~inventory plots)\"\n",
    "print str(len(treelist)) + \" trees\""
   ]
  },
  {
   "cell_type": "code",
   "execution_count": 18,
   "metadata": {
    "collapsed": false
   },
   "outputs": [],
   "source": [
    "# Set COND_ID as index\n",
    "treelist.set_index(\"COND_ID\", inplace = True)"
   ]
  },
  {
   "cell_type": "code",
   "execution_count": 19,
   "metadata": {
    "collapsed": false
   },
   "outputs": [
    {
     "name": "stdout",
     "output_type": "stream",
     "text": [
      "117 COMMON_NAMEs\n",
      "118 SPECIES_SYMBOLs\n",
      "117 SPCDs\n",
      "43 GENUSes\n",
      "21 SPP_GRPs\n"
     ]
    }
   ],
   "source": [
    "print(str(len(pd.unique(treelist.COMMON_NAME))) + \" COMMON_NAMEs\")\n",
    "print(str(len(pd.unique(treelist.SPECIES_SYMBOL))) + \" SPECIES_SYMBOLs\")\n",
    "print(str(len(pd.unique(treelist.SPCD))) + \" SPCDs\")\n",
    "print(str(len(pd.unique(treelist.GENUS))) + \" GENUSes\")\n",
    "print(str(len(pd.unique(treelist.SPP_GRP))) + \" SPP_GRPs\")"
   ]
  },
  {
   "cell_type": "code",
   "execution_count": 20,
   "metadata": {
    "collapsed": false
   },
   "outputs": [
    {
     "data": {
      "text/plain": [
       "ACTUALHT             1788\n",
       "BHAGE             1509368\n",
       "COMMON_NAME             0\n",
       "CR                 241036\n",
       "DIA                   993\n",
       "GENUS             1457174\n",
       "HT                   7702\n",
       "PLOT                    0\n",
       "SPCD                    0\n",
       "SPECIES_SYMBOL          0\n",
       "SPGRPCD           1457174\n",
       "SPP_GRP           1457174\n",
       "STATUSCD                0\n",
       "SUBP                    0\n",
       "TOTAGE            1611032\n",
       "TPA_UNADJ             993\n",
       "TREE_ID                 0\n",
       "dtype: int64"
      ]
     },
     "execution_count": 20,
     "metadata": {},
     "output_type": "execute_result"
    }
   ],
   "source": [
    "# How many null values are there for each column?\n",
    "treelist.isnull().sum()"
   ]
  },
  {
   "cell_type": "code",
   "execution_count": 21,
   "metadata": {
    "collapsed": false
   },
   "outputs": [
    {
     "data": {
      "text/plain": [
       "['Alaska yellow-cedar',\n",
       " 'American holly',\n",
       " 'Apple spp.',\n",
       " 'Ash spp.',\n",
       " 'Balsam willow',\n",
       " 'Bigcone Douglas-fir',\n",
       " 'Bigleaf maple',\n",
       " 'Bishop pine',\n",
       " 'Bitter cherry',\n",
       " 'Black cottonwood',\n",
       " 'Black locust',\n",
       " 'Black spruce',\n",
       " 'Black willow',\n",
       " 'Blue oak',\n",
       " 'Boxelder',\n",
       " 'Brewer spruce',\n",
       " 'Bristlecone fir',\n",
       " 'Bristlecone pine',\n",
       " 'Buckeye, horsechestnut  ',\n",
       " 'California black oak',\n",
       " 'California buckeye',\n",
       " 'California foothill pine',\n",
       " 'California juniper',\n",
       " 'California laurel',\n",
       " 'California live oak',\n",
       " 'California nutmeg',\n",
       " 'California red fir',\n",
       " 'California sycamore',\n",
       " 'Canyon live oak',\n",
       " 'Chinkapin oak',\n",
       " 'Chokecherry',\n",
       " 'Coulter pine',\n",
       " 'Curl-leaf mountain mahogany',\n",
       " 'Cypress spp.',\n",
       " 'Desert ironwood  ',\n",
       " 'Douglas-fir',\n",
       " 'Engelmann oak',\n",
       " 'Engelmann spruce',\n",
       " 'Foxtail pine',\n",
       " 'Fremont cottonwood',\n",
       " 'Giant chinquapin',\n",
       " 'Giant sequoia',\n",
       " 'Grand fir',\n",
       " 'Great Basin bristlecone pine',\n",
       " 'Gum spp.',\n",
       " 'Hawthorn spp.',\n",
       " 'Holly',\n",
       " 'Honey mesquite',\n",
       " 'Incense-cedar',\n",
       " 'Interior live oak',\n",
       " 'Jeffrey pine',\n",
       " 'Knobcone pine',\n",
       " 'Limber pine',\n",
       " 'Lodgepole pine',\n",
       " \"MacNab's cypress\",\n",
       " 'Modoc cypress',\n",
       " 'Monterey cypress',\n",
       " 'Monterey pine',\n",
       " 'Mountain hemlock',\n",
       " 'Noble fir',\n",
       " 'Northern California walnut',\n",
       " 'Norway maple',\n",
       " 'Oak, deciduous spp.',\n",
       " 'Oregon ash',\n",
       " 'Oregon crabapple',\n",
       " 'Oregon white oak',\n",
       " 'Pacific dogwood',\n",
       " 'Pacific madrone',\n",
       " 'Pacific silver fir',\n",
       " 'Pacific yew',\n",
       " 'Paper birch',\n",
       " 'Plum/cherry spp.',\n",
       " 'Ponderosa pine',\n",
       " 'Port-Orford-cedar',\n",
       " 'Quaking aspen',\n",
       " 'Red alder',\n",
       " 'Redwood',\n",
       " 'Rocky Mountain juniper',\n",
       " 'Rocky Mountain maple',\n",
       " 'Russian olive',\n",
       " \"Sargent's cypress\",\n",
       " 'Scotch pine',\n",
       " 'Screwbean mesquite  ',\n",
       " 'Shasta red fir',\n",
       " 'Singleleaf pinyon',\n",
       " 'Sitka spruce',\n",
       " 'Southern California walnut',\n",
       " 'Subalpine fir',\n",
       " 'Subalpine larch',\n",
       " 'Sugar pine',\n",
       " 'Sweet cherry',\n",
       " 'Sweetgum',\n",
       " 'Tanoak',\n",
       " 'Tasmanian bluegum',\n",
       " 'Tree of heaven',\n",
       " 'Tree, evergreen spp.',\n",
       " 'Unknown dead hardwood',\n",
       " 'Unknown softwood',\n",
       " 'Unknown spp.',\n",
       " 'Utah juniper',\n",
       " 'Valley oak',\n",
       " 'Velvet ash',\n",
       " 'Walnut spp.',\n",
       " 'Washoe pine',\n",
       " 'Water birch',\n",
       " 'Western hemlock',\n",
       " 'Western juniper',\n",
       " 'Western larch',\n",
       " 'Western paper birch',\n",
       " 'Western redcedar',\n",
       " 'Western white pine',\n",
       " 'White alder',\n",
       " 'White fir',\n",
       " 'White spruce',\n",
       " 'White willow',\n",
       " 'Whitebark pine',\n",
       " 'Willow spp.']"
      ]
     },
     "execution_count": 21,
     "metadata": {},
     "output_type": "execute_result"
    }
   ],
   "source": [
    "sorted(pd.unique(treelist.COMMON_NAME))"
   ]
  },
  {
   "cell_type": "code",
   "execution_count": 22,
   "metadata": {
    "collapsed": false
   },
   "outputs": [],
   "source": [
    "# remove trees without a DIA or TPA_UNADJ value\n",
    "treelist.dropna(axis = 0, how = 'any', subset = [\"TPA_UNADJ\", \"DIA\"], inplace = True)"
   ]
  },
  {
   "cell_type": "code",
   "execution_count": 23,
   "metadata": {
    "collapsed": false
   },
   "outputs": [
    {
     "data": {
      "text/plain": [
       "ACTUALHT              795\n",
       "BHAGE             1508540\n",
       "COMMON_NAME             0\n",
       "CR                 240043\n",
       "DIA                     0\n",
       "GENUS             1457174\n",
       "HT                   6709\n",
       "PLOT                    0\n",
       "SPCD                    0\n",
       "SPECIES_SYMBOL          0\n",
       "SPGRPCD           1457174\n",
       "SPP_GRP           1457174\n",
       "STATUSCD                0\n",
       "SUBP                    0\n",
       "TOTAGE            1610039\n",
       "TPA_UNADJ               0\n",
       "TREE_ID                 0\n",
       "dtype: int64"
      ]
     },
     "execution_count": 23,
     "metadata": {},
     "output_type": "execute_result"
    }
   ],
   "source": [
    "# How many null values are there for each column now?\n",
    "treelist.isnull().sum()"
   ]
  },
  {
   "cell_type": "code",
   "execution_count": 24,
   "metadata": {
    "collapsed": false
   },
   "outputs": [],
   "source": [
    "# identify the 2\" diameter class for each tree\n",
    "# takes in a tree DBH and returns the min-max range for 2\" diameter class for each tree\n",
    "\n",
    "def minDBH(dbh):\n",
    "    return int(np.floor(dbh/2)*2)\n",
    "\n",
    "def maxDBH(dbh):\n",
    "    # if a tree has an even DBH (e.g., 2.0), don't let maxDBH = minDBH...\n",
    "    if np.ceil(dbh/2)*2 == np.floor(dbh/2)*2:\n",
    "        return int(np.ceil(dbh/2)*2 +2)\n",
    "    else:\n",
    "        return int(np.ceil(dbh/2)*2)"
   ]
  },
  {
   "cell_type": "code",
   "execution_count": 25,
   "metadata": {
    "collapsed": false
   },
   "outputs": [],
   "source": [
    "# calculate the min and max DBHs for all the trees\n",
    "treelist[\"minDBH\"] = treelist.DIA.apply(minDBH)\n",
    "treelist[\"maxDBH\"] = treelist.DIA.apply(maxDBH)"
   ]
  },
  {
   "cell_type": "code",
   "execution_count": 26,
   "metadata": {
    "collapsed": true
   },
   "outputs": [],
   "source": [
    "# Add a basal area field\n",
    "treelist[\"BA_ft2_ac\"] = (treelist.DIA ** 2) * 0.005454 * treelist.TPA_UNADJ"
   ]
  },
  {
   "cell_type": "code",
   "execution_count": 27,
   "metadata": {
    "collapsed": true
   },
   "outputs": [],
   "source": [
    "# create columns for each variant\n",
    "# for each tree in the treelist, populate them with with the species code FVS uses for that variant\n",
    "variants = ['BM', 'CA', 'EC', 'PN', 'SO', 'WC']\n",
    "for variant in variants:\n",
    "    treelist[variant] = treelist['COMMON_NAME'].apply(lambda common_name: species_crosswalk[common_name][variant])"
   ]
  },
  {
   "cell_type": "code",
   "execution_count": 28,
   "metadata": {
    "collapsed": false
   },
   "outputs": [],
   "source": [
    "# create tree_live treelist by filtering out dead trees (statuscd = 2)\n",
    "treelive = treelist.loc[treelist.STATUSCD == 1]"
   ]
  },
  {
   "cell_type": "code",
   "execution_count": 29,
   "metadata": {
    "collapsed": false
   },
   "outputs": [
    {
     "data": {
      "text/html": [
       "<div>\n",
       "<table border=\"1\" class=\"dataframe\">\n",
       "  <thead>\n",
       "    <tr style=\"text-align: right;\">\n",
       "      <th></th>\n",
       "      <th>ACTUALHT</th>\n",
       "      <th>BHAGE</th>\n",
       "      <th>COMMON_NAME</th>\n",
       "      <th>CR</th>\n",
       "      <th>DIA</th>\n",
       "      <th>GENUS</th>\n",
       "      <th>HT</th>\n",
       "      <th>PLOT</th>\n",
       "      <th>SPCD</th>\n",
       "      <th>SPECIES_SYMBOL</th>\n",
       "      <th>...</th>\n",
       "      <th>TREE_ID</th>\n",
       "      <th>minDBH</th>\n",
       "      <th>maxDBH</th>\n",
       "      <th>BA_ft2_ac</th>\n",
       "      <th>BM</th>\n",
       "      <th>CA</th>\n",
       "      <th>EC</th>\n",
       "      <th>PN</th>\n",
       "      <th>SO</th>\n",
       "      <th>WC</th>\n",
       "    </tr>\n",
       "    <tr>\n",
       "      <th>COND_ID</th>\n",
       "      <th></th>\n",
       "      <th></th>\n",
       "      <th></th>\n",
       "      <th></th>\n",
       "      <th></th>\n",
       "      <th></th>\n",
       "      <th></th>\n",
       "      <th></th>\n",
       "      <th></th>\n",
       "      <th></th>\n",
       "      <th></th>\n",
       "      <th></th>\n",
       "      <th></th>\n",
       "      <th></th>\n",
       "      <th></th>\n",
       "      <th></th>\n",
       "      <th></th>\n",
       "      <th></th>\n",
       "      <th></th>\n",
       "      <th></th>\n",
       "      <th></th>\n",
       "    </tr>\n",
       "  </thead>\n",
       "  <tbody>\n",
       "    <tr>\n",
       "      <th>1150352010901</th>\n",
       "      <td>44</td>\n",
       "      <td>NaN</td>\n",
       "      <td>Western redcedar</td>\n",
       "      <td>15</td>\n",
       "      <td>9.5</td>\n",
       "      <td>Thuja</td>\n",
       "      <td>44</td>\n",
       "      <td>71915</td>\n",
       "      <td>242</td>\n",
       "      <td>THPL</td>\n",
       "      <td>...</td>\n",
       "      <td>111</td>\n",
       "      <td>8</td>\n",
       "      <td>10</td>\n",
       "      <td>2.958263</td>\n",
       "      <td>GF</td>\n",
       "      <td>RC</td>\n",
       "      <td>RC</td>\n",
       "      <td>RC</td>\n",
       "      <td>RC</td>\n",
       "      <td>RC</td>\n",
       "    </tr>\n",
       "    <tr>\n",
       "      <th>1150352010901</th>\n",
       "      <td>73</td>\n",
       "      <td>318</td>\n",
       "      <td>Western hemlock</td>\n",
       "      <td>40</td>\n",
       "      <td>32.8</td>\n",
       "      <td>Tsuga</td>\n",
       "      <td>73</td>\n",
       "      <td>71915</td>\n",
       "      <td>263</td>\n",
       "      <td>TSHE</td>\n",
       "      <td>...</td>\n",
       "      <td>112</td>\n",
       "      <td>32</td>\n",
       "      <td>34</td>\n",
       "      <td>5.808955</td>\n",
       "      <td>GF</td>\n",
       "      <td>WH</td>\n",
       "      <td>WH</td>\n",
       "      <td>WH</td>\n",
       "      <td>WH</td>\n",
       "      <td>WH</td>\n",
       "    </tr>\n",
       "    <tr>\n",
       "      <th>1150352010901</th>\n",
       "      <td>66</td>\n",
       "      <td>95</td>\n",
       "      <td>Western hemlock</td>\n",
       "      <td>10</td>\n",
       "      <td>10.5</td>\n",
       "      <td>Tsuga</td>\n",
       "      <td>66</td>\n",
       "      <td>71915</td>\n",
       "      <td>263</td>\n",
       "      <td>TSHE</td>\n",
       "      <td>...</td>\n",
       "      <td>113</td>\n",
       "      <td>10</td>\n",
       "      <td>12</td>\n",
       "      <td>3.613834</td>\n",
       "      <td>GF</td>\n",
       "      <td>WH</td>\n",
       "      <td>WH</td>\n",
       "      <td>WH</td>\n",
       "      <td>WH</td>\n",
       "      <td>WH</td>\n",
       "    </tr>\n",
       "    <tr>\n",
       "      <th>1150352010901</th>\n",
       "      <td>45</td>\n",
       "      <td>NaN</td>\n",
       "      <td>Western redcedar</td>\n",
       "      <td>20</td>\n",
       "      <td>10.2</td>\n",
       "      <td>Thuja</td>\n",
       "      <td>45</td>\n",
       "      <td>71915</td>\n",
       "      <td>242</td>\n",
       "      <td>THPL</td>\n",
       "      <td>...</td>\n",
       "      <td>114</td>\n",
       "      <td>10</td>\n",
       "      <td>12</td>\n",
       "      <td>3.410279</td>\n",
       "      <td>GF</td>\n",
       "      <td>RC</td>\n",
       "      <td>RC</td>\n",
       "      <td>RC</td>\n",
       "      <td>RC</td>\n",
       "      <td>RC</td>\n",
       "    </tr>\n",
       "    <tr>\n",
       "      <th>1150352010901</th>\n",
       "      <td>47</td>\n",
       "      <td>NaN</td>\n",
       "      <td>Western hemlock</td>\n",
       "      <td>20</td>\n",
       "      <td>9.2</td>\n",
       "      <td>Tsuga</td>\n",
       "      <td>47</td>\n",
       "      <td>71915</td>\n",
       "      <td>263</td>\n",
       "      <td>TSHE</td>\n",
       "      <td>...</td>\n",
       "      <td>115</td>\n",
       "      <td>8</td>\n",
       "      <td>10</td>\n",
       "      <td>2.774376</td>\n",
       "      <td>GF</td>\n",
       "      <td>WH</td>\n",
       "      <td>WH</td>\n",
       "      <td>WH</td>\n",
       "      <td>WH</td>\n",
       "      <td>WH</td>\n",
       "    </tr>\n",
       "  </tbody>\n",
       "</table>\n",
       "<p>5 rows × 26 columns</p>\n",
       "</div>"
      ],
      "text/plain": [
       "               ACTUALHT  BHAGE       COMMON_NAME  CR   DIA  GENUS  HT   PLOT  \\\n",
       "COND_ID                                                                        \n",
       "1150352010901        44    NaN  Western redcedar  15   9.5  Thuja  44  71915   \n",
       "1150352010901        73    318   Western hemlock  40  32.8  Tsuga  73  71915   \n",
       "1150352010901        66     95   Western hemlock  10  10.5  Tsuga  66  71915   \n",
       "1150352010901        45    NaN  Western redcedar  20  10.2  Thuja  45  71915   \n",
       "1150352010901        47    NaN   Western hemlock  20   9.2  Tsuga  47  71915   \n",
       "\n",
       "               SPCD SPECIES_SYMBOL ...  TREE_ID minDBH  maxDBH  BA_ft2_ac  BM  \\\n",
       "COND_ID                            ...                                          \n",
       "1150352010901   242           THPL ...      111      8      10   2.958263  GF   \n",
       "1150352010901   263           TSHE ...      112     32      34   5.808955  GF   \n",
       "1150352010901   263           TSHE ...      113     10      12   3.613834  GF   \n",
       "1150352010901   242           THPL ...      114     10      12   3.410279  GF   \n",
       "1150352010901   263           TSHE ...      115      8      10   2.774376  GF   \n",
       "\n",
       "               CA  EC  PN  SO  WC  \n",
       "COND_ID                            \n",
       "1150352010901  RC  RC  RC  RC  RC  \n",
       "1150352010901  WH  WH  WH  WH  WH  \n",
       "1150352010901  WH  WH  WH  WH  WH  \n",
       "1150352010901  RC  RC  RC  RC  RC  \n",
       "1150352010901  WH  WH  WH  WH  WH  \n",
       "\n",
       "[5 rows x 26 columns]"
      ]
     },
     "execution_count": 29,
     "metadata": {},
     "output_type": "execute_result"
    }
   ],
   "source": [
    "treelive.head()"
   ]
  },
  {
   "cell_type": "code",
   "execution_count": 30,
   "metadata": {
    "collapsed": false
   },
   "outputs": [],
   "source": [
    "# Calculate total live TPA of each species within each 2\" diameter class\n",
    "\n",
    "# create a blank dataframe that will hold treelive_summaries for all variants\n",
    "treelive_summary = pd.DataFrame()\n",
    "\n",
    "# create a tree_live summary for each variant\n",
    "for variant in variants:\n",
    "    # groupby COND_ID, COMMON_NAME, variant (column name for species codes to which the tree is assigned in that variant), DBH class\n",
    "    # return the sum of TPA in each of these groups\n",
    "    grouped = pd.DataFrame(treelive.groupby([treelive.index, \"PLOT\", \"COMMON_NAME\", variant, \"minDBH\"])[\"TPA_UNADJ\", \"BA_ft2_ac\", \"HT\", \"DIA\", \"TOTAGE\"].agg([np.sum, np.mean, 'count'])).reset_index()\n",
    "    grouped.rename(columns={'COND_ID': 'cond_id'}, inplace=True)\n",
    "    grouped.set_index(\"cond_id\", inplace=True)\n",
    "    \n",
    "    # flatten the column names (groupby returned multi-level column names)\n",
    "    grouped.columns = ['_'.join(col).strip() if col[1] != '' else col[0] for col in grouped.columns.values]\n",
    "    \n",
    "    # add a column for this dataframe that stored which variant it represents\n",
    "    grouped[\"variant\"] = variant\n",
    "    \n",
    "    # create a 'varname' column that concatenates common_name and diameter class\n",
    "    grouped[\"varname\"] = grouped.COMMON_NAME + \"_\" + grouped.minDBH.map(str)\n",
    "    \n",
    "    # rename the columns with what the IDB_summary schema in Forest Planner is expecting\n",
    "    grouped.rename(columns={'PLOT': 'plot_id', variant: 'FVS_Spp_Code', 'COMMON_NAME': 'fia_forest_type_name', \n",
    "                            'minDBH': 'calc_dbh_class', 'TPA_UNADJ_sum': 'sumoftpa', 'TPA_UNADJ_mean': 'avgoftpa', \n",
    "                            'TPA_UNADJ_count': 'calc_tree_count', 'BA_ft2_ac_sum': 'sumofba_ft2_ac', \n",
    "                            'BA_ft2_ac_mean': 'avgofba_ft2_ac',  'HT_mean': 'avgofht_ft', 'DIA_mean': 'avgofdbh_in',\n",
    "                            'TOTAGE_mean': 'avgofage_bh'}, inplace=True)\n",
    "    \n",
    "    # Map columns to the data types the TREELIVE_SUMMARY db schema expects (for those not already appropriately formatted)\n",
    "    # mapping to floats\n",
    "    for column in ['calc_dbh_class', 'sumoftpa', 'avgoftpa']:\n",
    "        grouped[column] = grouped[column].map(float)\n",
    "    grouped.reset_index(inplace = True)\n",
    "    \n",
    "    # append the treelive_summary for this variant to the \n",
    "    treelive_summary = treelive_summary.append(grouped, ignore_index = True)"
   ]
  },
  {
   "cell_type": "code",
   "execution_count": 31,
   "metadata": {
    "collapsed": false
   },
   "outputs": [
    {
     "data": {
      "text/html": [
       "<div>\n",
       "<table border=\"1\" class=\"dataframe\">\n",
       "  <thead>\n",
       "    <tr style=\"text-align: right;\">\n",
       "      <th></th>\n",
       "      <th>cond_id</th>\n",
       "      <th>plot_id</th>\n",
       "      <th>fia_forest_type_name</th>\n",
       "      <th>FVS_Spp_Code</th>\n",
       "      <th>calc_dbh_class</th>\n",
       "      <th>sumoftpa</th>\n",
       "      <th>avgoftpa</th>\n",
       "      <th>calc_tree_count</th>\n",
       "      <th>sumofba_ft2_ac</th>\n",
       "      <th>avgofba_ft2_ac</th>\n",
       "      <th>...</th>\n",
       "      <th>avgofht_ft</th>\n",
       "      <th>HT_count</th>\n",
       "      <th>DIA_sum</th>\n",
       "      <th>avgofdbh_in</th>\n",
       "      <th>DIA_count</th>\n",
       "      <th>TOTAGE_sum</th>\n",
       "      <th>avgofage_bh</th>\n",
       "      <th>TOTAGE_count</th>\n",
       "      <th>variant</th>\n",
       "      <th>varname</th>\n",
       "    </tr>\n",
       "  </thead>\n",
       "  <tbody>\n",
       "    <tr>\n",
       "      <th>0</th>\n",
       "      <td>1</td>\n",
       "      <td>1097</td>\n",
       "      <td>Bigleaf maple</td>\n",
       "      <td>OH</td>\n",
       "      <td>0</td>\n",
       "      <td>49.10</td>\n",
       "      <td>49.10</td>\n",
       "      <td>1</td>\n",
       "      <td>0.002678</td>\n",
       "      <td>0.002678</td>\n",
       "      <td>...</td>\n",
       "      <td>1</td>\n",
       "      <td>1</td>\n",
       "      <td>0.1</td>\n",
       "      <td>0.1</td>\n",
       "      <td>1</td>\n",
       "      <td>NaN</td>\n",
       "      <td>NaN</td>\n",
       "      <td>0</td>\n",
       "      <td>BM</td>\n",
       "      <td>Bigleaf maple_0</td>\n",
       "    </tr>\n",
       "    <tr>\n",
       "      <th>1</th>\n",
       "      <td>1</td>\n",
       "      <td>1097</td>\n",
       "      <td>Douglas-fir</td>\n",
       "      <td>DF</td>\n",
       "      <td>0</td>\n",
       "      <td>49.10</td>\n",
       "      <td>49.10</td>\n",
       "      <td>1</td>\n",
       "      <td>0.385620</td>\n",
       "      <td>0.385620</td>\n",
       "      <td>...</td>\n",
       "      <td>11</td>\n",
       "      <td>1</td>\n",
       "      <td>1.2</td>\n",
       "      <td>1.2</td>\n",
       "      <td>1</td>\n",
       "      <td>29</td>\n",
       "      <td>29</td>\n",
       "      <td>1</td>\n",
       "      <td>BM</td>\n",
       "      <td>Douglas-fir_0</td>\n",
       "    </tr>\n",
       "    <tr>\n",
       "      <th>2</th>\n",
       "      <td>1</td>\n",
       "      <td>1097</td>\n",
       "      <td>Douglas-fir</td>\n",
       "      <td>DF</td>\n",
       "      <td>2</td>\n",
       "      <td>98.20</td>\n",
       "      <td>49.10</td>\n",
       "      <td>2</td>\n",
       "      <td>8.146214</td>\n",
       "      <td>4.073107</td>\n",
       "      <td>...</td>\n",
       "      <td>23</td>\n",
       "      <td>2</td>\n",
       "      <td>7.8</td>\n",
       "      <td>3.9</td>\n",
       "      <td>2</td>\n",
       "      <td>68</td>\n",
       "      <td>34</td>\n",
       "      <td>2</td>\n",
       "      <td>BM</td>\n",
       "      <td>Douglas-fir_2</td>\n",
       "    </tr>\n",
       "    <tr>\n",
       "      <th>3</th>\n",
       "      <td>1</td>\n",
       "      <td>1097</td>\n",
       "      <td>Douglas-fir</td>\n",
       "      <td>DF</td>\n",
       "      <td>4</td>\n",
       "      <td>35.63</td>\n",
       "      <td>35.63</td>\n",
       "      <td>1</td>\n",
       "      <td>6.313652</td>\n",
       "      <td>6.313652</td>\n",
       "      <td>...</td>\n",
       "      <td>41</td>\n",
       "      <td>1</td>\n",
       "      <td>5.7</td>\n",
       "      <td>5.7</td>\n",
       "      <td>1</td>\n",
       "      <td>32</td>\n",
       "      <td>32</td>\n",
       "      <td>1</td>\n",
       "      <td>BM</td>\n",
       "      <td>Douglas-fir_4</td>\n",
       "    </tr>\n",
       "    <tr>\n",
       "      <th>4</th>\n",
       "      <td>1</td>\n",
       "      <td>1097</td>\n",
       "      <td>Douglas-fir</td>\n",
       "      <td>DF</td>\n",
       "      <td>10</td>\n",
       "      <td>9.28</td>\n",
       "      <td>9.28</td>\n",
       "      <td>1</td>\n",
       "      <td>6.462789</td>\n",
       "      <td>6.462789</td>\n",
       "      <td>...</td>\n",
       "      <td>71</td>\n",
       "      <td>1</td>\n",
       "      <td>11.3</td>\n",
       "      <td>11.3</td>\n",
       "      <td>1</td>\n",
       "      <td>51</td>\n",
       "      <td>51</td>\n",
       "      <td>1</td>\n",
       "      <td>BM</td>\n",
       "      <td>Douglas-fir_10</td>\n",
       "    </tr>\n",
       "  </tbody>\n",
       "</table>\n",
       "<p>5 rows × 22 columns</p>\n",
       "</div>"
      ],
      "text/plain": [
       "   cond_id  plot_id fia_forest_type_name FVS_Spp_Code  calc_dbh_class  \\\n",
       "0        1     1097        Bigleaf maple           OH               0   \n",
       "1        1     1097          Douglas-fir           DF               0   \n",
       "2        1     1097          Douglas-fir           DF               2   \n",
       "3        1     1097          Douglas-fir           DF               4   \n",
       "4        1     1097          Douglas-fir           DF              10   \n",
       "\n",
       "   sumoftpa  avgoftpa  calc_tree_count  sumofba_ft2_ac  avgofba_ft2_ac  \\\n",
       "0     49.10     49.10                1        0.002678        0.002678   \n",
       "1     49.10     49.10                1        0.385620        0.385620   \n",
       "2     98.20     49.10                2        8.146214        4.073107   \n",
       "3     35.63     35.63                1        6.313652        6.313652   \n",
       "4      9.28      9.28                1        6.462789        6.462789   \n",
       "\n",
       "        ...         avgofht_ft  HT_count  DIA_sum  avgofdbh_in  DIA_count  \\\n",
       "0       ...                  1         1      0.1          0.1          1   \n",
       "1       ...                 11         1      1.2          1.2          1   \n",
       "2       ...                 23         2      7.8          3.9          2   \n",
       "3       ...                 41         1      5.7          5.7          1   \n",
       "4       ...                 71         1     11.3         11.3          1   \n",
       "\n",
       "   TOTAGE_sum  avgofage_bh  TOTAGE_count  variant          varname  \n",
       "0         NaN          NaN             0       BM  Bigleaf maple_0  \n",
       "1          29           29             1       BM    Douglas-fir_0  \n",
       "2          68           34             2       BM    Douglas-fir_2  \n",
       "3          32           32             1       BM    Douglas-fir_4  \n",
       "4          51           51             1       BM   Douglas-fir_10  \n",
       "\n",
       "[5 rows x 22 columns]"
      ]
     },
     "execution_count": 31,
     "metadata": {},
     "output_type": "execute_result"
    }
   ],
   "source": [
    "treelive_summary.head()"
   ]
  },
  {
   "cell_type": "code",
   "execution_count": 32,
   "metadata": {
    "collapsed": false
   },
   "outputs": [
    {
     "data": {
      "text/plain": [
       "cond_id                   int64\n",
       "plot_id                   int64\n",
       "fia_forest_type_name     object\n",
       "FVS_Spp_Code             object\n",
       "calc_dbh_class          float64\n",
       "sumoftpa                float64\n",
       "avgoftpa                float64\n",
       "calc_tree_count           int64\n",
       "sumofba_ft2_ac          float64\n",
       "avgofba_ft2_ac          float64\n",
       "BA_ft2_ac_count           int64\n",
       "HT_sum                  float64\n",
       "avgofht_ft              float64\n",
       "HT_count                  int64\n",
       "DIA_sum                 float64\n",
       "avgofdbh_in             float64\n",
       "DIA_count                 int64\n",
       "TOTAGE_sum              float64\n",
       "avgofage_bh             float64\n",
       "TOTAGE_count              int64\n",
       "variant                  object\n",
       "varname                  object\n",
       "dtype: object"
      ]
     },
     "execution_count": 32,
     "metadata": {},
     "output_type": "execute_result"
    }
   ],
   "source": [
    "treelive_summary.dtypes"
   ]
  },
  {
   "cell_type": "code",
   "execution_count": 33,
   "metadata": {
    "collapsed": false
   },
   "outputs": [],
   "source": [
    "# Add columns to treelive_summary to record total BA of that COND_ID, count of species-x-size class in that COND_ID, and \n",
    "# the % of total basal area for that COND_ID found in this species-x-size class\n",
    "\n",
    "# Create a dataframe that has the total basal area and count of species size classes for each COND_ID\n",
    "cond_summary = pd.DataFrame(treelive_summary.loc[treelive_summary.variant == 'BM'].groupby(['cond_id'])['sumofba_ft2_ac'].agg(['sum', 'count']))\n",
    "#cond_summary.set_index(\"cond_id\", inplace=True)\n",
    "\n",
    "# lookup the total BA for each COND_ID in the cond_sumamry dataframe, apply it to every species-x-size class in the treelive_summary\n",
    "treelive_summary['total_ba_ft2_ac'] = treelive_summary.reset_index()['cond_id'].apply(lambda id: cond_summary.at[id,'sum'])\n",
    "\n",
    "# lookup the number of species-x-size classes in the cond_sumamry dataframe, apply it to every species-x-size class in the treelive_summary\n",
    "treelive_summary['count_speciessizeclasses'] = treelive_summary.reset_index()['cond_id'].apply(lambda id: cond_summary.at[id,'count']).map(int)\n",
    "\n",
    "# Calculate the % of total basal area found in each species-x-size class\n",
    "treelive_summary['pct_of_totalba'] = treelive_summary['sumofba_ft2_ac']/treelive_summary['total_ba_ft2_ac']"
   ]
  },
  {
   "cell_type": "code",
   "execution_count": 34,
   "metadata": {
    "collapsed": false
   },
   "outputs": [
    {
     "data": {
      "text/plain": [
       "cond_id                       int64\n",
       "plot_id                       int64\n",
       "fia_forest_type_name         object\n",
       "FVS_Spp_Code                 object\n",
       "calc_dbh_class              float64\n",
       "sumoftpa                    float64\n",
       "avgoftpa                    float64\n",
       "calc_tree_count               int64\n",
       "sumofba_ft2_ac              float64\n",
       "avgofba_ft2_ac              float64\n",
       "BA_ft2_ac_count               int64\n",
       "HT_sum                      float64\n",
       "avgofht_ft                  float64\n",
       "HT_count                      int64\n",
       "DIA_sum                     float64\n",
       "avgofdbh_in                 float64\n",
       "DIA_count                     int64\n",
       "TOTAGE_sum                  float64\n",
       "avgofage_bh                 float64\n",
       "TOTAGE_count                  int64\n",
       "variant                      object\n",
       "varname                      object\n",
       "total_ba_ft2_ac             float64\n",
       "count_speciessizeclasses      int64\n",
       "pct_of_totalba              float64\n",
       "dtype: object"
      ]
     },
     "execution_count": 34,
     "metadata": {},
     "output_type": "execute_result"
    }
   ],
   "source": [
    "treelive_summary.dtypes"
   ]
  },
  {
   "cell_type": "code",
   "execution_count": 40,
   "metadata": {
    "collapsed": false,
    "scrolled": false
   },
   "outputs": [
    {
     "data": {
      "text/html": [
       "<div>\n",
       "<table border=\"1\" class=\"dataframe\">\n",
       "  <thead>\n",
       "    <tr style=\"text-align: right;\">\n",
       "      <th></th>\n",
       "      <th>cond_id</th>\n",
       "      <th>calc_dbh_class</th>\n",
       "      <th>fia_forest_type_name</th>\n",
       "      <th>avgofdbh_in</th>\n",
       "      <th>avgofht_ft</th>\n",
       "    </tr>\n",
       "  </thead>\n",
       "  <tbody>\n",
       "    <tr>\n",
       "      <th>2293</th>\n",
       "      <td>521</td>\n",
       "      <td>0</td>\n",
       "      <td>Pacific silver fir</td>\n",
       "      <td>1.6</td>\n",
       "      <td>7</td>\n",
       "    </tr>\n",
       "    <tr>\n",
       "      <th>2294</th>\n",
       "      <td>521</td>\n",
       "      <td>6</td>\n",
       "      <td>Pacific silver fir</td>\n",
       "      <td>7.7</td>\n",
       "      <td>42</td>\n",
       "    </tr>\n",
       "    <tr>\n",
       "      <th>644509</th>\n",
       "      <td>521</td>\n",
       "      <td>0</td>\n",
       "      <td>Pacific silver fir</td>\n",
       "      <td>1.6</td>\n",
       "      <td>7</td>\n",
       "    </tr>\n",
       "    <tr>\n",
       "      <th>644510</th>\n",
       "      <td>521</td>\n",
       "      <td>6</td>\n",
       "      <td>Pacific silver fir</td>\n",
       "      <td>7.7</td>\n",
       "      <td>42</td>\n",
       "    </tr>\n",
       "    <tr>\n",
       "      <th>1286725</th>\n",
       "      <td>521</td>\n",
       "      <td>0</td>\n",
       "      <td>Pacific silver fir</td>\n",
       "      <td>1.6</td>\n",
       "      <td>7</td>\n",
       "    </tr>\n",
       "    <tr>\n",
       "      <th>1286726</th>\n",
       "      <td>521</td>\n",
       "      <td>6</td>\n",
       "      <td>Pacific silver fir</td>\n",
       "      <td>7.7</td>\n",
       "      <td>42</td>\n",
       "    </tr>\n",
       "    <tr>\n",
       "      <th>1928941</th>\n",
       "      <td>521</td>\n",
       "      <td>0</td>\n",
       "      <td>Pacific silver fir</td>\n",
       "      <td>1.6</td>\n",
       "      <td>7</td>\n",
       "    </tr>\n",
       "    <tr>\n",
       "      <th>1928942</th>\n",
       "      <td>521</td>\n",
       "      <td>6</td>\n",
       "      <td>Pacific silver fir</td>\n",
       "      <td>7.7</td>\n",
       "      <td>42</td>\n",
       "    </tr>\n",
       "    <tr>\n",
       "      <th>2571157</th>\n",
       "      <td>521</td>\n",
       "      <td>0</td>\n",
       "      <td>Pacific silver fir</td>\n",
       "      <td>1.6</td>\n",
       "      <td>7</td>\n",
       "    </tr>\n",
       "    <tr>\n",
       "      <th>2571158</th>\n",
       "      <td>521</td>\n",
       "      <td>6</td>\n",
       "      <td>Pacific silver fir</td>\n",
       "      <td>7.7</td>\n",
       "      <td>42</td>\n",
       "    </tr>\n",
       "    <tr>\n",
       "      <th>3213373</th>\n",
       "      <td>521</td>\n",
       "      <td>0</td>\n",
       "      <td>Pacific silver fir</td>\n",
       "      <td>1.6</td>\n",
       "      <td>7</td>\n",
       "    </tr>\n",
       "    <tr>\n",
       "      <th>3213374</th>\n",
       "      <td>521</td>\n",
       "      <td>6</td>\n",
       "      <td>Pacific silver fir</td>\n",
       "      <td>7.7</td>\n",
       "      <td>42</td>\n",
       "    </tr>\n",
       "  </tbody>\n",
       "</table>\n",
       "</div>"
      ],
      "text/plain": [
       "         cond_id  calc_dbh_class fia_forest_type_name  avgofdbh_in  avgofht_ft\n",
       "2293         521               0   Pacific silver fir          1.6           7\n",
       "2294         521               6   Pacific silver fir          7.7          42\n",
       "644509       521               0   Pacific silver fir          1.6           7\n",
       "644510       521               6   Pacific silver fir          7.7          42\n",
       "1286725      521               0   Pacific silver fir          1.6           7\n",
       "1286726      521               6   Pacific silver fir          7.7          42\n",
       "1928941      521               0   Pacific silver fir          1.6           7\n",
       "1928942      521               6   Pacific silver fir          7.7          42\n",
       "2571157      521               0   Pacific silver fir          1.6           7\n",
       "2571158      521               6   Pacific silver fir          7.7          42\n",
       "3213373      521               0   Pacific silver fir          1.6           7\n",
       "3213374      521               6   Pacific silver fir          7.7          42"
      ]
     },
     "execution_count": 40,
     "metadata": {},
     "output_type": "execute_result"
    }
   ],
   "source": [
    "treelive_summary[['cond_id', 'calc_dbh_class', 'fia_forest_type_name', 'avgofdbh_in', 'avgofht_ft']].loc[(treelive_summary.cond_id == 521) & (treelive_summary.fia_forest_type_name == \"Pacific silver fir\")]"
   ]
  },
  {
   "cell_type": "code",
   "execution_count": 35,
   "metadata": {
    "collapsed": false
   },
   "outputs": [
    {
     "name": "stdout",
     "output_type": "stream",
     "text": [
      "printed 642216 species-x-dbh classes\n",
      "from 42815 conditions to:\n",
      "G:\\projects\\ForestPlanner_2015\\Data\\Processed\\TREELIVE_SUMMARY_2015-12-15.csv\n"
     ]
    }
   ],
   "source": [
    "# write the treelive_summary to a CSV\n",
    "cols_to_write = ['cond_id', 'plot_id', 'variant', 'varname','fia_forest_type_name', 'FVS_Spp_Code', 'calc_dbh_class', 'calc_tree_count', 'sumoftpa', 'avgoftpa', 'sumofba_ft2_ac', 'avgofba_ft2_ac', 'avgofht_ft', 'avgofdbh_in', 'avgofage_bh', 'total_ba_ft2_ac', 'count_speciessizeclasses', 'pct_of_totalba']\n",
    "treelive_summary.to_csv(\"G:\\projects\\ForestPlanner_2015\\Data\\Processed\\TREELIVE_SUMMARY_\" + time.strftime(\"%Y-%m-%d\") + \".csv\", columns = cols_to_write, header = True, index = True, index_label = \"class_id\", quoting=csv.QUOTE_NONNUMERIC)\n",
    "\n",
    "print(\"printed \" + str(len(treelive_summary)/len(variants)) + \" species-x-dbh classes\")\n",
    "print(\"from \"+ str(len(pd.unique(treelive_summary.cond_id))) + \" conditions to:\")\n",
    "print(\"G:\\projects\\ForestPlanner_2015\\Data\\Processed\\TREELIVE_SUMMARY_\" + time.strftime(\"%Y-%m-%d\") + \".csv\")"
   ]
  }
 ],
 "metadata": {
  "kernelspec": {
   "display_name": "Python 2",
   "language": "python",
   "name": "python2"
  },
  "language_info": {
   "codemirror_mode": {
    "name": "ipython",
    "version": 2
   },
   "file_extension": ".py",
   "mimetype": "text/x-python",
   "name": "python",
   "nbconvert_exporter": "python",
   "pygments_lexer": "ipython2",
   "version": "2.7.10"
  }
 },
 "nbformat": 4,
 "nbformat_minor": 0
}
