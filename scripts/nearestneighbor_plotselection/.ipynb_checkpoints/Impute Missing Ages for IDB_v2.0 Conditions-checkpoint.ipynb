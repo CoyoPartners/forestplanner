{
 "cells": [
  {
   "cell_type": "code",
   "execution_count": 1,
   "metadata": {
    "collapsed": true
   },
   "outputs": [],
   "source": [
    "# A script to impute missing values for for stand age in forest inventory plots"
   ]
  },
  {
   "cell_type": "code",
   "execution_count": 2,
   "metadata": {
    "collapsed": false
   },
   "outputs": [],
   "source": [
    "# load our libraries\n",
    "import pandas as pd\n",
    "import numpy as np\n",
    "from sklearn.ensemble import RandomForestRegressor\n",
    "from sklearn import preprocessing\n",
    "import matplotlib.pyplot as plt\n",
    "%matplotlib inline\n",
    "from sklearn.metrics import mean_squared_error\n",
    "from math import sqrt"
   ]
  },
  {
   "cell_type": "code",
   "execution_count": 3,
   "metadata": {
    "collapsed": false
   },
   "outputs": [
    {
     "data": {
      "text/html": [
       "<div>\n",
       "<table border=\"1\" class=\"dataframe\">\n",
       "  <thead>\n",
       "    <tr style=\"text-align: right;\">\n",
       "      <th></th>\n",
       "      <th>PLOT_ID</th>\n",
       "      <th>COND_ID</th>\n",
       "      <th>LATITUDE_FUZZ</th>\n",
       "      <th>LONGITUDE_FUZZ</th>\n",
       "      <th>Calc_SLOPE</th>\n",
       "      <th>Calc_ASPECT</th>\n",
       "      <th>ELEV_FT</th>\n",
       "      <th>STAND_SIZE_CLASS</th>\n",
       "      <th>QMD_TOT_CM</th>\n",
       "      <th>SITE_CLASS_FIA</th>\n",
       "      <th>AGE_Calc</th>\n",
       "      <th>FIA_FOREST_TYPE_NAME</th>\n",
       "      <th>FOR_TYPE</th>\n",
       "      <th>FOR_TYPE_SECDRY</th>\n",
       "      <th>MAI</th>\n",
       "      <th>SumOfBA_FT2_AC</th>\n",
       "      <th>SumOfBIOM_TR_ABV_GRND_TON</th>\n",
       "      <th>SumOfVOL_AC_GRS_FT3</th>\n",
       "      <th>GLC_GROUP</th>\n",
       "    </tr>\n",
       "  </thead>\n",
       "  <tbody>\n",
       "    <tr>\n",
       "      <th>0</th>\n",
       "      <td>3</td>\n",
       "      <td>105</td>\n",
       "      <td>44.70</td>\n",
       "      <td>-123.32</td>\n",
       "      <td>0</td>\n",
       "      <td>0</td>\n",
       "      <td>394</td>\n",
       "      <td>3</td>\n",
       "      <td>91.70</td>\n",
       "      <td>3</td>\n",
       "      <td>65</td>\n",
       "      <td>Douglas-fir</td>\n",
       "      <td>202</td>\n",
       "      <td>NaN</td>\n",
       "      <td>129.59</td>\n",
       "      <td>23.64</td>\n",
       "      <td>4.69</td>\n",
       "      <td>761.00</td>\n",
       "      <td>F</td>\n",
       "    </tr>\n",
       "    <tr>\n",
       "      <th>1</th>\n",
       "      <td>3</td>\n",
       "      <td>108</td>\n",
       "      <td>44.70</td>\n",
       "      <td>-123.32</td>\n",
       "      <td>0</td>\n",
       "      <td>0</td>\n",
       "      <td>394</td>\n",
       "      <td>2</td>\n",
       "      <td>10.81</td>\n",
       "      <td>3</td>\n",
       "      <td>15</td>\n",
       "      <td>Oregon white oak</td>\n",
       "      <td>815</td>\n",
       "      <td>NaN</td>\n",
       "      <td>129.59</td>\n",
       "      <td>14.37</td>\n",
       "      <td>0.07</td>\n",
       "      <td>107.55</td>\n",
       "      <td>F</td>\n",
       "    </tr>\n",
       "    <tr>\n",
       "      <th>2</th>\n",
       "      <td>4</td>\n",
       "      <td>133</td>\n",
       "      <td>44.64</td>\n",
       "      <td>-123.43</td>\n",
       "      <td>0</td>\n",
       "      <td>0</td>\n",
       "      <td>600</td>\n",
       "      <td>3</td>\n",
       "      <td>23.05</td>\n",
       "      <td>NaN</td>\n",
       "      <td>35</td>\n",
       "      <td>Scotch pine</td>\n",
       "      <td>130</td>\n",
       "      <td>NaN</td>\n",
       "      <td>NaN</td>\n",
       "      <td>112.93</td>\n",
       "      <td>0.99</td>\n",
       "      <td>2495.75</td>\n",
       "      <td>F</td>\n",
       "    </tr>\n",
       "    <tr>\n",
       "      <th>3</th>\n",
       "      <td>5</td>\n",
       "      <td>148</td>\n",
       "      <td>44.69</td>\n",
       "      <td>-123.43</td>\n",
       "      <td>30</td>\n",
       "      <td>360</td>\n",
       "      <td>600</td>\n",
       "      <td>3</td>\n",
       "      <td>38.78</td>\n",
       "      <td>2</td>\n",
       "      <td>45</td>\n",
       "      <td>Douglas-fir</td>\n",
       "      <td>202</td>\n",
       "      <td>NaN</td>\n",
       "      <td>191.88</td>\n",
       "      <td>152.49</td>\n",
       "      <td>26.76</td>\n",
       "      <td>5614.54</td>\n",
       "      <td>F</td>\n",
       "    </tr>\n",
       "    <tr>\n",
       "      <th>4</th>\n",
       "      <td>6</td>\n",
       "      <td>174</td>\n",
       "      <td>44.71</td>\n",
       "      <td>-123.50</td>\n",
       "      <td>30</td>\n",
       "      <td>315</td>\n",
       "      <td>1201</td>\n",
       "      <td>3</td>\n",
       "      <td>35.51</td>\n",
       "      <td>2</td>\n",
       "      <td>35</td>\n",
       "      <td>Douglas-fir</td>\n",
       "      <td>202</td>\n",
       "      <td>NaN</td>\n",
       "      <td>201.86</td>\n",
       "      <td>122.00</td>\n",
       "      <td>3.15</td>\n",
       "      <td>4521.56</td>\n",
       "      <td>F</td>\n",
       "    </tr>\n",
       "  </tbody>\n",
       "</table>\n",
       "</div>"
      ],
      "text/plain": [
       "   PLOT_ID  COND_ID  LATITUDE_FUZZ  LONGITUDE_FUZZ  Calc_SLOPE  Calc_ASPECT  \\\n",
       "0        3      105          44.70         -123.32           0            0   \n",
       "1        3      108          44.70         -123.32           0            0   \n",
       "2        4      133          44.64         -123.43           0            0   \n",
       "3        5      148          44.69         -123.43          30          360   \n",
       "4        6      174          44.71         -123.50          30          315   \n",
       "\n",
       "   ELEV_FT  STAND_SIZE_CLASS  QMD_TOT_CM  SITE_CLASS_FIA  AGE_Calc  \\\n",
       "0      394                 3       91.70               3        65   \n",
       "1      394                 2       10.81               3        15   \n",
       "2      600                 3       23.05             NaN        35   \n",
       "3      600                 3       38.78               2        45   \n",
       "4     1201                 3       35.51               2        35   \n",
       "\n",
       "  FIA_FOREST_TYPE_NAME  FOR_TYPE  FOR_TYPE_SECDRY     MAI  SumOfBA_FT2_AC  \\\n",
       "0          Douglas-fir       202              NaN  129.59           23.64   \n",
       "1     Oregon white oak       815              NaN  129.59           14.37   \n",
       "2          Scotch pine       130              NaN     NaN          112.93   \n",
       "3          Douglas-fir       202              NaN  191.88          152.49   \n",
       "4          Douglas-fir       202              NaN  201.86          122.00   \n",
       "\n",
       "   SumOfBIOM_TR_ABV_GRND_TON  SumOfVOL_AC_GRS_FT3 GLC_GROUP  \n",
       "0                       4.69               761.00         F  \n",
       "1                       0.07               107.55         F  \n",
       "2                       0.99              2495.75         F  \n",
       "3                      26.76              5614.54         F  \n",
       "4                       3.15              4521.56         F  "
      ]
     },
     "execution_count": 3,
     "metadata": {},
     "output_type": "execute_result"
    }
   ],
   "source": [
    "# read in the PNW FIA Database, with plot(\"condition\")-level summary data\n",
    "PNW_FIADB = pd.read_csv(\"G:/projects/ForestPlanner_2015/Data/Work/IDB_SUMMARY_2015-10-23.csv\")\n",
    "PNW_FIADB.head()"
   ]
  },
  {
   "cell_type": "code",
   "execution_count": 4,
   "metadata": {
    "collapsed": true
   },
   "outputs": [],
   "source": [
    "# rename a few columns\n",
    "PNW_FIADB.rename(columns={'AGE_Calc': 'COND_AGE', 'LATITUDE_FUZZ': 'LAT', 'LONGITUDE_FUZZ': 'LON', \n",
    "                          'Calc_SLOPE': 'SLOPE', 'Calc_ASPECT': 'ASPECT', 'ELEV_FT': 'ELEV'}, inplace=True)\n"
   ]
  },
  {
   "cell_type": "code",
   "execution_count": 5,
   "metadata": {
    "collapsed": false
   },
   "outputs": [],
   "source": [
    "# set thte COND_CN field as the dataframe index\n",
    "PNW_FIADB.set_index(\"COND_ID\", inplace = True)"
   ]
  },
  {
   "cell_type": "code",
   "execution_count": 6,
   "metadata": {
    "collapsed": false
   },
   "outputs": [
    {
     "data": {
      "text/html": [
       "<div>\n",
       "<table border=\"1\" class=\"dataframe\">\n",
       "  <thead>\n",
       "    <tr style=\"text-align: right;\">\n",
       "      <th></th>\n",
       "      <th>PLOT_ID</th>\n",
       "      <th>LAT</th>\n",
       "      <th>LON</th>\n",
       "      <th>SLOPE</th>\n",
       "      <th>ASPECT</th>\n",
       "      <th>ELEV</th>\n",
       "      <th>STAND_SIZE_CLASS</th>\n",
       "      <th>QMD_TOT_CM</th>\n",
       "      <th>SITE_CLASS_FIA</th>\n",
       "      <th>COND_AGE</th>\n",
       "      <th>FOR_TYPE</th>\n",
       "      <th>FOR_TYPE_SECDRY</th>\n",
       "      <th>MAI</th>\n",
       "      <th>SumOfBA_FT2_AC</th>\n",
       "      <th>SumOfBIOM_TR_ABV_GRND_TON</th>\n",
       "      <th>SumOfVOL_AC_GRS_FT3</th>\n",
       "    </tr>\n",
       "  </thead>\n",
       "  <tbody>\n",
       "    <tr>\n",
       "      <th>count</th>\n",
       "      <td>24259.000000</td>\n",
       "      <td>24259.000000</td>\n",
       "      <td>24259.000000</td>\n",
       "      <td>24255.000000</td>\n",
       "      <td>24255.000000</td>\n",
       "      <td>24205.000000</td>\n",
       "      <td>24243.000000</td>\n",
       "      <td>23884.000000</td>\n",
       "      <td>23979.000000</td>\n",
       "      <td>22986.000000</td>\n",
       "      <td>24259.000000</td>\n",
       "      <td>2613.000000</td>\n",
       "      <td>18139.000000</td>\n",
       "      <td>23752.000000</td>\n",
       "      <td>24207.000000</td>\n",
       "      <td>24249.000000</td>\n",
       "    </tr>\n",
       "    <tr>\n",
       "      <th>mean</th>\n",
       "      <td>14674.469599</td>\n",
       "      <td>43.690303</td>\n",
       "      <td>-121.033802</td>\n",
       "      <td>30.780952</td>\n",
       "      <td>196.104473</td>\n",
       "      <td>3811.497253</td>\n",
       "      <td>3.257848</td>\n",
       "      <td>32.738325</td>\n",
       "      <td>4.546436</td>\n",
       "      <td>106.981641</td>\n",
       "      <td>220.183478</td>\n",
       "      <td>389.652507</td>\n",
       "      <td>95.813147</td>\n",
       "      <td>125.565238</td>\n",
       "      <td>44.594977</td>\n",
       "      <td>3480.787005</td>\n",
       "    </tr>\n",
       "    <tr>\n",
       "      <th>std</th>\n",
       "      <td>8593.758660</td>\n",
       "      <td>3.437008</td>\n",
       "      <td>1.972498</td>\n",
       "      <td>23.255176</td>\n",
       "      <td>110.734799</td>\n",
       "      <td>1970.490619</td>\n",
       "      <td>1.275918</td>\n",
       "      <td>17.190702</td>\n",
       "      <td>1.605430</td>\n",
       "      <td>79.706468</td>\n",
       "      <td>193.797361</td>\n",
       "      <td>235.204377</td>\n",
       "      <td>59.413856</td>\n",
       "      <td>92.316470</td>\n",
       "      <td>72.856389</td>\n",
       "      <td>3728.646719</td>\n",
       "    </tr>\n",
       "    <tr>\n",
       "      <th>min</th>\n",
       "      <td>3.000000</td>\n",
       "      <td>32.740000</td>\n",
       "      <td>-124.710000</td>\n",
       "      <td>0.000000</td>\n",
       "      <td>0.000000</td>\n",
       "      <td>3.000000</td>\n",
       "      <td>0.000000</td>\n",
       "      <td>0.100000</td>\n",
       "      <td>1.000000</td>\n",
       "      <td>0.000000</td>\n",
       "      <td>11.000000</td>\n",
       "      <td>11.000000</td>\n",
       "      <td>-10.370000</td>\n",
       "      <td>0.040000</td>\n",
       "      <td>0.000000</td>\n",
       "      <td>0.000000</td>\n",
       "    </tr>\n",
       "    <tr>\n",
       "      <th>25%</th>\n",
       "      <td>6916.500000</td>\n",
       "      <td>41.685000</td>\n",
       "      <td>-122.530000</td>\n",
       "      <td>10.000000</td>\n",
       "      <td>90.000000</td>\n",
       "      <td>2362.000000</td>\n",
       "      <td>3.000000</td>\n",
       "      <td>21.270000</td>\n",
       "      <td>3.000000</td>\n",
       "      <td>45.000000</td>\n",
       "      <td>108.000000</td>\n",
       "      <td>202.000000</td>\n",
       "      <td>49.175000</td>\n",
       "      <td>53.665000</td>\n",
       "      <td>4.730000</td>\n",
       "      <td>828.760000</td>\n",
       "    </tr>\n",
       "    <tr>\n",
       "      <th>50%</th>\n",
       "      <td>14024.000000</td>\n",
       "      <td>44.150000</td>\n",
       "      <td>-121.380000</td>\n",
       "      <td>28.000000</td>\n",
       "      <td>180.000000</td>\n",
       "      <td>4000.000000</td>\n",
       "      <td>3.000000</td>\n",
       "      <td>31.650000</td>\n",
       "      <td>5.000000</td>\n",
       "      <td>95.000000</td>\n",
       "      <td>202.000000</td>\n",
       "      <td>351.000000</td>\n",
       "      <td>81.610000</td>\n",
       "      <td>106.940000</td>\n",
       "      <td>17.070000</td>\n",
       "      <td>2243.240000</td>\n",
       "    </tr>\n",
       "    <tr>\n",
       "      <th>75%</th>\n",
       "      <td>22076.000000</td>\n",
       "      <td>46.140000</td>\n",
       "      <td>-119.430000</td>\n",
       "      <td>47.000000</td>\n",
       "      <td>270.000000</td>\n",
       "      <td>5180.000000</td>\n",
       "      <td>4.000000</td>\n",
       "      <td>42.730000</td>\n",
       "      <td>6.000000</td>\n",
       "      <td>155.000000</td>\n",
       "      <td>263.000000</td>\n",
       "      <td>431.000000</td>\n",
       "      <td>132.820000</td>\n",
       "      <td>179.980000</td>\n",
       "      <td>50.070000</td>\n",
       "      <td>4884.390000</td>\n",
       "    </tr>\n",
       "    <tr>\n",
       "      <th>max</th>\n",
       "      <td>30942.000000</td>\n",
       "      <td>49.000000</td>\n",
       "      <td>-116.350000</td>\n",
       "      <td>999.000000</td>\n",
       "      <td>999.000000</td>\n",
       "      <td>11299.000000</td>\n",
       "      <td>7.000000</td>\n",
       "      <td>279.800000</td>\n",
       "      <td>7.000000</td>\n",
       "      <td>300.000000</td>\n",
       "      <td>999.000000</td>\n",
       "      <td>999.000000</td>\n",
       "      <td>556.510000</td>\n",
       "      <td>1124.690000</td>\n",
       "      <td>1631.090000</td>\n",
       "      <td>68646.200000</td>\n",
       "    </tr>\n",
       "  </tbody>\n",
       "</table>\n",
       "</div>"
      ],
      "text/plain": [
       "            PLOT_ID           LAT           LON         SLOPE        ASPECT  \\\n",
       "count  24259.000000  24259.000000  24259.000000  24255.000000  24255.000000   \n",
       "mean   14674.469599     43.690303   -121.033802     30.780952    196.104473   \n",
       "std     8593.758660      3.437008      1.972498     23.255176    110.734799   \n",
       "min        3.000000     32.740000   -124.710000      0.000000      0.000000   \n",
       "25%     6916.500000     41.685000   -122.530000     10.000000     90.000000   \n",
       "50%    14024.000000     44.150000   -121.380000     28.000000    180.000000   \n",
       "75%    22076.000000     46.140000   -119.430000     47.000000    270.000000   \n",
       "max    30942.000000     49.000000   -116.350000    999.000000    999.000000   \n",
       "\n",
       "               ELEV  STAND_SIZE_CLASS    QMD_TOT_CM  SITE_CLASS_FIA  \\\n",
       "count  24205.000000      24243.000000  23884.000000    23979.000000   \n",
       "mean    3811.497253          3.257848     32.738325        4.546436   \n",
       "std     1970.490619          1.275918     17.190702        1.605430   \n",
       "min        3.000000          0.000000      0.100000        1.000000   \n",
       "25%     2362.000000          3.000000     21.270000        3.000000   \n",
       "50%     4000.000000          3.000000     31.650000        5.000000   \n",
       "75%     5180.000000          4.000000     42.730000        6.000000   \n",
       "max    11299.000000          7.000000    279.800000        7.000000   \n",
       "\n",
       "           COND_AGE      FOR_TYPE  FOR_TYPE_SECDRY           MAI  \\\n",
       "count  22986.000000  24259.000000      2613.000000  18139.000000   \n",
       "mean     106.981641    220.183478       389.652507     95.813147   \n",
       "std       79.706468    193.797361       235.204377     59.413856   \n",
       "min        0.000000     11.000000        11.000000    -10.370000   \n",
       "25%       45.000000    108.000000       202.000000     49.175000   \n",
       "50%       95.000000    202.000000       351.000000     81.610000   \n",
       "75%      155.000000    263.000000       431.000000    132.820000   \n",
       "max      300.000000    999.000000       999.000000    556.510000   \n",
       "\n",
       "       SumOfBA_FT2_AC  SumOfBIOM_TR_ABV_GRND_TON  SumOfVOL_AC_GRS_FT3  \n",
       "count    23752.000000               24207.000000         24249.000000  \n",
       "mean       125.565238                  44.594977          3480.787005  \n",
       "std         92.316470                  72.856389          3728.646719  \n",
       "min          0.040000                   0.000000             0.000000  \n",
       "25%         53.665000                   4.730000           828.760000  \n",
       "50%        106.940000                  17.070000          2243.240000  \n",
       "75%        179.980000                  50.070000          4884.390000  \n",
       "max       1124.690000                1631.090000         68646.200000  "
      ]
     },
     "execution_count": 6,
     "metadata": {},
     "output_type": "execute_result"
    }
   ],
   "source": [
    "PNW_FIADB.describe()"
   ]
  },
  {
   "cell_type": "code",
   "execution_count": 7,
   "metadata": {
    "collapsed": false
   },
   "outputs": [
    {
     "data": {
      "text/plain": [
       "<matplotlib.axes._subplots.AxesSubplot at 0x1f088860>"
      ]
     },
     "execution_count": 7,
     "metadata": {},
     "output_type": "execute_result"
    },
    {
     "data": {
      "image/png": "[encoded data removed]",
      "text/plain": [
       "<matplotlib.figure.Figure at 0x38a32e8>"
      ]
     },
     "metadata": {},
     "output_type": "display_data"
    }
   ],
   "source": [
    "# take a look at the histogram of ages\n",
    "PNW_FIADB.COND_AGE.hist(bins=50)"
   ]
  },
  {
   "cell_type": "code",
   "execution_count": 8,
   "metadata": {
    "collapsed": false
   },
   "outputs": [],
   "source": [
    "# some of our columns need to be formatted as factors/categorical variables\n",
    "# FORTYPCD (Forest Type), SITECLCD (Site Class), SOIL_ROOTING_DEPTH_PNW, \n",
    "# STND_COND_CD_PNWRS (Stand condition code, e.g., grass-forb, open sawtimber, closed sapling-pole-sawtimber, old-growth)\n",
    "# STND_STRUC_CD_PNWRS (Stand Structure, e.g., even-aged single story, two-story, uneven-aged, mosaic), \n",
    "# PHYSCLCD (Soil-Climate Type)\n",
    "cat_cols = [\"STAND_SIZE_CLASS\", \"SITE_CLASS_FIA\", \"FOR_TYPE\", \"FOR_TYPE_SECDRY\"]\n",
    "for col in cat_cols:\n",
    "    if col in [\"FOR_TYPE\", \"FOR_TYPE_SECDRY\"]:\n",
    "        PNW_FIADB[col] = PNW_FIADB[col].astype('category')\n",
    "    else:\n",
    "        PNW_FIADB[col] = PNW_FIADB[col].astype('category').cat.as_ordered()"
   ]
  },
  {
   "cell_type": "code",
   "execution_count": 9,
   "metadata": {
    "collapsed": false
   },
   "outputs": [
    {
     "name": "stdout",
     "output_type": "stream",
     "text": [
      "Out of 24259 plots:\n",
      "PLOT_ID: 0 nulls\n",
      "LAT: 0 nulls\n",
      "LON: 0 nulls\n",
      "SLOPE: 4 nulls\n",
      "ASPECT: 4 nulls\n",
      "ELEV: 54 nulls\n",
      "STAND_SIZE_CLASS: 16 nulls\n",
      "QMD_TOT_CM: 375 nulls\n",
      "SITE_CLASS_FIA: 280 nulls\n",
      "COND_AGE: 1273 nulls\n",
      "FIA_FOREST_TYPE_NAME: 0 nulls\n",
      "FOR_TYPE: 0 nulls\n",
      "FOR_TYPE_SECDRY: 21646 nulls\n",
      "MAI: 6120 nulls\n",
      "SumOfBA_FT2_AC: 507 nulls\n",
      "SumOfBIOM_TR_ABV_GRND_TON: 52 nulls\n",
      "SumOfVOL_AC_GRS_FT3: 10 nulls\n",
      "GLC_GROUP: 0 nulls\n",
      "['SLOPE', 'ASPECT', 'ELEV', 'STAND_SIZE_CLASS', 'QMD_TOT_CM', 'SITE_CLASS_FIA', 'FOR_TYPE_SECDRY', 'MAI', 'SumOfBA_FT2_AC', 'SumOfBIOM_TR_ABV_GRND_TON', 'SumOfVOL_AC_GRS_FT3']\n"
     ]
    }
   ],
   "source": [
    "# How many missing values do we have\n",
    "print(\"Out of \" + str(len(PNW_FIADB)) + \" plots:\")\n",
    "\n",
    "# create a list of fields (other than age) with nulls\n",
    "hasNaNs = []\n",
    "\n",
    "for col in PNW_FIADB.columns.values:\n",
    "    print(col + \": \" + str(PNW_FIADB[col].isnull().sum()) + \" nulls\")\n",
    "    if col != \"COND_AGE\" and PNW_FIADB[col].isnull().sum() >0:\n",
    "        hasNaNs.append(col)\n",
    "print(hasNaNs)"
   ]
  },
  {
   "cell_type": "code",
   "execution_count": 10,
   "metadata": {
    "collapsed": false
   },
   "outputs": [
    {
     "name": "stdout",
     "output_type": "stream",
     "text": [
      "('SLOPE', '1')\n",
      "('ASPECT', '1')\n",
      "('ELEV', '9')\n",
      "('STAND_SIZE_CLASS', '16')\n",
      "('QMD_TOT_CM', '54')\n",
      "('SITE_CLASS_FIA', '115')\n",
      "('FOR_TYPE_SECDRY', '1237')\n",
      "('MAI', '1174')\n",
      "('SumOfBA_FT2_AC', '25')\n",
      "('SumOfBIOM_TR_ABV_GRND_TON', '16')\n",
      "('SumOfVOL_AC_GRS_FT3', '4')\n"
     ]
    }
   ],
   "source": [
    "# See how many plots with missing ages also have missing nulls in other columns\n",
    "for col in hasNaNs:\n",
    "    print(col, str(PNW_FIADB.COND_AGE.loc[PNW_FIADB[col].isnull()].isnull().sum()))"
   ]
  },
  {
   "cell_type": "code",
   "execution_count": 11,
   "metadata": {
    "collapsed": true
   },
   "outputs": [],
   "source": [
    "# columns of important predictor variables\n",
    "dropNaNcols = [\"STAND_SIZE_CLASS\", \"QMD_TOT_CM\", \"SumOfBA_FT2_AC\", \"SumOfBIOM_TR_ABV_GRND_TON\", \"SumOfVOL_AC_GRS_FT3\"]"
   ]
  },
  {
   "cell_type": "code",
   "execution_count": 12,
   "metadata": {
    "collapsed": false
   },
   "outputs": [],
   "source": [
    "# We could try to fill in missing values for some predictor variables, or just ignore them\n",
    "# Let's see whether random forest thinks these values are helpful when we train the model \n",
    "# on a dataset that drops the plots where values are not missing\n",
    "# and also drops the columns that aren't predictors (PLT_CN, FORTYPE)\n",
    "noNaNs = PNW_FIADB.dropna(axis=0, how='any', thresh=None, subset=dropNaNcols, inplace=False)"
   ]
  },
  {
   "cell_type": "code",
   "execution_count": 13,
   "metadata": {
    "collapsed": false
   },
   "outputs": [
    {
     "name": "stdout",
     "output_type": "stream",
     "text": [
      "23573 plots with complete predictor variables\n"
     ]
    }
   ],
   "source": [
    "# Number of plots with complete predictor variables\n",
    "print(str(len(noNaNs))+ \" plots with complete predictor variables\")"
   ]
  },
  {
   "cell_type": "code",
   "execution_count": 14,
   "metadata": {
    "collapsed": false
   },
   "outputs": [],
   "source": [
    "# Create a random forest training set of data from all plots with ages\n",
    "train = noNaNs.dropna(axis=0, how='any', thresh=None, subset=[\"COND_AGE\"], inplace=False)"
   ]
  },
  {
   "cell_type": "code",
   "execution_count": 15,
   "metadata": {
    "collapsed": false
   },
   "outputs": [],
   "source": [
    "# set parameters for random forest regression\n",
    "randomforest = RandomForestRegressor(n_estimators = 100, oob_score=True, random_state = 54321)"
   ]
  },
  {
   "cell_type": "code",
   "execution_count": 16,
   "metadata": {
    "collapsed": false
   },
   "outputs": [
    {
     "name": "stdout",
     "output_type": "stream",
     "text": [
      "Feature ranking:\n",
      "1. STAND_SIZE_CLASS (0.246499)\n",
      "2. SumOfBA_FT2_AC (0.231842)\n",
      "3. LON (0.156995)\n",
      "4. SumOfBIOM_TR_ABV_GRND_TON (0.129390)\n",
      "5. LAT (0.100310)\n",
      "6. QMD_TOT_CM (0.065008)\n",
      "7. SumOfVOL_AC_GRS_FT3 (0.039546)\n",
      "8. FOR_TYPE (0.030410)\n",
      "-----\n",
      "R-squared on training set (vs OOB sample): 0.736874299791\n",
      "-----\n",
      "RMSE for training set: 8.16704531767\n",
      "Overall RMSE 61.6558892218\n",
      "Age Range -> [0, 10] RMSE 4.85963633989\n",
      "Age Range -> [10, 25] RMSE 7.82678233138\n",
      "Age Range -> [25, 50] RMSE 8.26727036181\n",
      "Age Range -> [50, 75] RMSE 6.22518293686\n",
      "Age Range -> [75, 100] RMSE 7.11735237749\n",
      "Age Range -> [100, 150] RMSE 10.4067481407\n",
      "Age Range -> [150, 200] RMSE 65.3338621056\n",
      "Age Range -> [200, 300] RMSE 139.765639572\n"
     ]
    }
   ],
   "source": [
    "# train randomforest on plots within the age range we care about\n",
    "# return the ranked feature importances for that random forest model\n",
    "# use that model to predict the ages for all plots where ages are known \n",
    "# (including those outside the age range used to train the model)\n",
    "\n",
    "# set which data we're using to train the model \n",
    "# \"train\" includes all conditions with measured ages and all predictor variables\n",
    "age_thresh = 150\n",
    "training_set = train.loc[train.COND_AGE < age_thresh]\n",
    "\n",
    "# Drop columns of variables that don't seem important as predictors\n",
    "droplabels = [\"SLOPE\", \"ASPECT\", \"ELEV\", \"FOR_TYPE_SECDRY\", \"MAI\", \"SITE_CLASS_FIA\"]\n",
    "droplabels.append(\"COND_AGE\")\n",
    "droplabels.append(\"PLOT_ID\")\n",
    "droplabels.append(\"FIA_FOREST_TYPE_NAME\")\n",
    "droplabels.append(\"GLC_GROUP\")\n",
    "X, y = training_set.drop(labels=droplabels, axis=1), training_set[\"COND_AGE\"]\n",
    "\n",
    "# train a random forest on the data subset with known ages\n",
    "randomforest.fit(X,y)\n",
    "\n",
    "# Gather the feature importances\n",
    "importances = randomforest.feature_importances_\n",
    "indices = np.argsort(importances)[::-1]\n",
    "\n",
    "# Print the feature ranking\n",
    "print(\"Feature ranking:\")\n",
    "\n",
    "for feature in range(len(training_set.drop(labels=droplabels, axis=1).columns.values)):\n",
    "    print(\"%d. %s (%f)\" % (feature + 1, training_set.drop(labels=droplabels, axis=1).columns.values[indices[feature]], importances[indices[feature]]))\n",
    "\n",
    "# Measures of fit\n",
    "print(\"-----\")\n",
    "print(\"R-squared on training set (vs OOB sample): \" + str(randomforest.oob_score_))\n",
    "\n",
    "# Turn random forest age predictions into a series\n",
    "RF_ages = pd.Series(randomforest.predict(train.drop(labels=droplabels, axis=1)))\n",
    "RF_ages.name = \"RF_AGE\"\n",
    "\n",
    "# Make a dataframe with measured and RF-predicted ages\n",
    "RF_preds = pd.concat([train.COND_AGE.reset_index(), RF_ages], axis = 1)\n",
    "\n",
    "# Calculate RMSE for various age ranges and print it\n",
    "# this is, on average, how close we are to the actual age (in years)\n",
    "def RMSE(measured, predicted):\n",
    "    return sqrt(mean_squared_error(measured,predicted))\n",
    "\n",
    "print(\"-----\")\n",
    "print(\"RMSE for training set: \" + str(RMSE(RF_preds.COND_AGE.loc[RF_preds.COND_AGE < age_thresh], RF_preds.RF_AGE.loc[RF_preds.COND_AGE < age_thresh])))\n",
    "print(\"Overall RMSE \" + str(RMSE(RF_preds.COND_AGE, RF_preds.RF_AGE)))\n",
    "\n",
    "AgeRanges = [[0,10],[10,25],[25,50],[50,75],[75,100],[100,150],[150,200],[200,300]]\n",
    "for agerange in AgeRanges:\n",
    "    print(\"Age Range -> \" +str(agerange)),\n",
    "    print(\"RMSE \" + str(RMSE(\n",
    "            RF_preds.COND_AGE.loc[(RF_preds.COND_AGE >= agerange[0]) & (RF_preds.COND_AGE < agerange[1])],\n",
    "            RF_preds.RF_AGE.loc[(RF_preds.COND_AGE >= agerange[0]) & (RF_preds.COND_AGE < agerange[1])])))"
   ]
  },
  {
   "cell_type": "code",
   "execution_count": 17,
   "metadata": {
    "collapsed": false
   },
   "outputs": [
    {
     "data": {
      "image/png": "[encoded data removed]",
      "text/plain": [
       "<matplotlib.figure.Figure at 0x1f748748>"
      ]
     },
     "metadata": {},
     "output_type": "display_data"
    }
   ],
   "source": [
    "# Data to plot\n",
    "x = RF_preds.COND_AGE.loc[RF_preds.COND_AGE < age_thresh]\n",
    "y = RF_preds.RF_AGE.loc[RF_preds.COND_AGE < age_thresh]\n",
    "\n",
    "plt.figure()\n",
    "plt.grid(True)\n",
    "plt.scatter(x, y, alpha = 0.03, facecolors='none', edgecolors='r')\n",
    "plt.title(\"How well does Random Forest predict stand ages?\")\n",
    "plt.xlabel(\"Measured Stand Age [yrs]\")\n",
    "plt.ylabel(\"Predicted Stand Age [yrs]\")\n",
    "plt.xlim(0,age_thresh)\n",
    "plt.ylim(0,age_thresh)\n",
    "\n",
    "# calculate and plot bestfit line with np.polyfit\n",
    "m, b = np.polyfit(x, y, 1)\n",
    "plt.plot(x, m*x + b, 'r--', alpha = 0.65)\n",
    "\n",
    "# add a 1:1 line\n",
    "plt.plot([0, 350], [0, 350], 'k--')\n",
    "\n",
    "plt.show()"
   ]
  },
  {
   "cell_type": "code",
   "execution_count": 18,
   "metadata": {
    "collapsed": false
   },
   "outputs": [],
   "source": [
    "# Predict ages for conditions without ages\n",
    "\n",
    "# dataframe of conditions without ages, but have all predictor variables\n",
    "noAges = noNaNs.loc[noNaNs.COND_AGE != noNaNs.COND_AGE]\n",
    "\n",
    "# RF predictions of ages for conditions without measured ages\n",
    "RFpred_noAges = pd.Series(randomforest.predict(noAges.drop(labels=droplabels, axis=1))).astype('int')\n",
    "RFpred_noAges.name = \"RF_Age\"\n",
    "\n",
    "# bring predicted ages into the dataframe\n",
    "RFages_imputed = pd.concat([noAges.reset_index(), RFpred_noAges], axis = 1).set_index(\"COND_ID\")"
   ]
  },
  {
   "cell_type": "code",
   "execution_count": 19,
   "metadata": {
    "collapsed": false
   },
   "outputs": [
    {
     "name": "stdout",
     "output_type": "stream",
     "text": [
      "24259 conditions total\n",
      "1273 ages missing before impute\n",
      "69 ages missing after impute\n",
      "24190 conditions with ages available\n"
     ]
    },
    {
     "name": "stderr",
     "output_type": "stream",
     "text": [
      "C:\\Users\\ddiaz\\AppData\\Local\\Continuum\\Anaconda\\lib\\site-packages\\pandas\\core\\indexing.py:115: SettingWithCopyWarning: \n",
      "A value is trying to be set on a copy of a slice from a DataFrame\n",
      "\n",
      "See the the caveats in the documentation: http://pandas.pydata.org/pandas-docs/stable/indexing.html#indexing-view-versus-copy\n",
      "  self._setitem_with_indexer(indexer, value)\n"
     ]
    }
   ],
   "source": [
    "# Overwrite COND_AGE with RF_Age on PNW FIA DB 2011 dataframe\n",
    "print(str(len(PNW_FIADB)) + \" conditions total\")\n",
    "print(str(PNW_FIADB.COND_AGE.isnull().sum()) + \" ages missing before impute\")\n",
    "PNW_FIADB.COND_AGE.loc[PNW_FIADB.COND_AGE != PNW_FIADB.COND_AGE] = RFages_imputed[\"RF_Age\"]\n",
    "print(str(PNW_FIADB.COND_AGE.isnull().sum()) + \" ages missing after impute\")\n",
    "print(str(len(PNW_FIADB)-PNW_FIADB.COND_AGE.isnull().sum()) + \" conditions with ages available\")"
   ]
  },
  {
   "cell_type": "code",
   "execution_count": 20,
   "metadata": {
    "collapsed": false
   },
   "outputs": [],
   "source": [
    "# write condition unique ID, LAT, LON, slope, aspect, elevation, and stand age to a csv\n",
    "# based on idb_summary format used in Forest Planner\n",
    "\n",
    "PNW_FIADB2011_cond_summary = PNW_FIADB[[\"LAT\", \"LON\", \"ELEV\", \"ASPECT\", \"SLOPE\", \"COND_AGE\"]].dropna(axis=0, how='any', thresh=None, subset=[\"COND_AGE\"], inplace=False)\n",
    "PNW_FIADB2011_cond_summary[[\"COND_AGE\"]] = PNW_FIADB2011_cond_summary[[\"COND_AGE\"]].astype(int)\n",
    "PNW_FIADB2011_cond_summary.to_csv(\"G:/projects/ForestPlanner_2015/Data/Processed/IDB2pt0_COND_SUMMARY_ages-imputed_2015-11-02.csv\", header = True, index = True)"
   ]
  }
 ],
 "metadata": {
  "kernelspec": {
   "display_name": "Python 2",
   "language": "python",
   "name": "python2"
  },
  "language_info": {
   "codemirror_mode": {
    "name": "ipython",
    "version": 2
   },
   "file_extension": ".py",
   "mimetype": "text/x-python",
   "name": "python",
   "nbconvert_exporter": "python",
   "pygments_lexer": "ipython2",
   "version": "2.7.10"
  }
 },
 "nbformat": 4,
 "nbformat_minor": 0
}
